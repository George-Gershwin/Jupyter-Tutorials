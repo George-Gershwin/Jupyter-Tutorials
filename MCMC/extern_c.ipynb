{
 "cells": [
  {
   "cell_type": "markdown",
   "metadata": {},
   "source": [
    "https://stackoverflow.com/questions/22425921/pass-a-2d-numpy-array-to-c-using-ctypes"
   ]
  },
  {
   "cell_type": "code",
   "execution_count": 15,
   "metadata": {},
   "outputs": [],
   "source": [
    "import ctypes as ct\n",
    "import numpy as np\n",
    "\n",
    "import numpy.f2py\n"
   ]
  },
  {
   "cell_type": "code",
   "execution_count": 20,
   "metadata": {},
   "outputs": [
    {
     "name": "stdout",
     "output_type": "stream",
     "text": [
      "\n"
     ]
    },
    {
     "data": {
      "text/plain": [
       "1"
      ]
     },
     "execution_count": 20,
     "metadata": {},
     "output_type": "execute_result"
    }
   ],
   "source": [
    "fsource = '''\n",
    "subroutine foo\n",
    "    print*, \"Hello world!\"\n",
    "end'''\n",
    "\n",
    "numpy.f2py.compile(fsource, modulename='hello', verbose=True)\n",
    "\n"
   ]
  },
  {
   "cell_type": "code",
   "execution_count": 18,
   "metadata": {},
   "outputs": [
    {
     "ename": "ModuleNotFoundError",
     "evalue": "No module named 'hello'",
     "output_type": "error",
     "traceback": [
      "\u001b[1;31m---------------------------------------------------------------------------\u001b[0m",
      "\u001b[1;31mModuleNotFoundError\u001b[0m                       Traceback (most recent call last)",
      "\u001b[1;32m<ipython-input-18-65d6d9ab174e>\u001b[0m in \u001b[0;36m<module>\u001b[1;34m\u001b[0m\n\u001b[1;32m----> 1\u001b[1;33m \u001b[1;32mimport\u001b[0m \u001b[0mhello\u001b[0m\u001b[1;33m\u001b[0m\u001b[1;33m\u001b[0m\u001b[0m\n\u001b[0m\u001b[0;32m      2\u001b[0m \u001b[0mhello\u001b[0m\u001b[1;33m.\u001b[0m\u001b[0mfoo\u001b[0m\u001b[1;33m(\u001b[0m\u001b[1;33m)\u001b[0m\u001b[1;33m\u001b[0m\u001b[1;33m\u001b[0m\u001b[0m\n",
      "\u001b[1;31mModuleNotFoundError\u001b[0m: No module named 'hello'"
     ]
    }
   ],
   "source": [
    "import hello\n",
    "hello.foo()"
   ]
  },
  {
   "cell_type": "code",
   "execution_count": 11,
   "metadata": {},
   "outputs": [],
   "source": [
    "libtest2d = ct.cdll.LoadLibrary(\"./libtest2d.so\")\n",
    "libtest2d.mul_10_fix.argtypes = (np.ctypeslib.ndpointer(dtype=np.float64,\n",
    "            ndim=2,\n",
    "            flags='C_CONTIGUOUS'),)\n",
    "\n",
    "libtest2d.mul_10_fix.restype = None\n",
    "\n"
   ]
  },
  {
   "cell_type": "code",
   "execution_count": 13,
   "metadata": {},
   "outputs": [
    {
     "name": "stdout",
     "output_type": "stream",
     "text": [
      "196 µs ± 1.86 µs per loop (mean ± std. dev. of 7 runs, 1000 loops each)\n",
      "31.1 µs ± 229 ns per loop (mean ± std. dev. of 7 runs, 10000 loops each)\n"
     ]
    }
   ],
   "source": [
    "arr2d = np.meshgrid(np.linspace(0, 1, 500), np.linspace(0, 1, 150))[0]\n",
    "arr2d_out = arr2d.copy()\n",
    "\n",
    "# print(arr2d)\n",
    "\n",
    "# arr2d.shape[0], arr2d.shape[1]\n",
    "\n",
    "\n",
    "%timeit libtest2d.mul_10_fix(arr2d_out)\n",
    "# arr2d_out == arr2d * 10\n",
    "\n",
    "%timeit arr2d * 10\n",
    "\n",
    "\n",
    "\n",
    "# np.ascontiguousarray"
   ]
  },
  {
   "cell_type": "code",
   "execution_count": 6,
   "metadata": {},
   "outputs": [
    {
     "data": {
      "text/plain": [
       "array([[ 0.,  2.,  4.,  6.,  8., 10.],\n",
       "       [ 0.,  2.,  4.,  6.,  8., 10.],\n",
       "       [ 0.,  2.,  4.,  6.,  8., 10.],\n",
       "       [ 0.,  2.,  4.,  6.,  8., 10.],\n",
       "       [ 0.,  2.,  4.,  6.,  8., 10.],\n",
       "       [ 0.,  2.,  4.,  6.,  8., 10.],\n",
       "       [ 0.,  2.,  4.,  6.,  8., 10.],\n",
       "       [ 0.,  2.,  4.,  6.,  8., 10.],\n",
       "       [ 0.,  2.,  4.,  6.,  8., 10.],\n",
       "       [ 0.,  2.,  4.,  6.,  8., 10.],\n",
       "       [ 0.,  2.,  4.,  6.,  8., 10.]])"
      ]
     },
     "execution_count": 6,
     "metadata": {},
     "output_type": "execute_result"
    }
   ],
   "source": [
    "arr2d"
   ]
  },
  {
   "cell_type": "code",
   "execution_count": null,
   "metadata": {},
   "outputs": [],
   "source": []
  }
 ],
 "metadata": {
  "kernelspec": {
   "display_name": "Python 3",
   "language": "python",
   "name": "python3"
  },
  "language_info": {
   "codemirror_mode": {
    "name": "ipython",
    "version": 3
   },
   "file_extension": ".py",
   "mimetype": "text/x-python",
   "name": "python",
   "nbconvert_exporter": "python",
   "pygments_lexer": "ipython3",
   "version": "3.7.3"
  }
 },
 "nbformat": 4,
 "nbformat_minor": 4
}
