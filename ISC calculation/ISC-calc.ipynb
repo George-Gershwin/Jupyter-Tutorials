{
 "cells": [
  {
   "cell_type": "markdown",
   "metadata": {},
   "source": [
    "# Determination of intersystem crossing quantum yield\n",
    "\n",
    "ISC is calculated from ground state bleach (GSB) and calculation works only if saturation conditions are established, that means all ground state was converted to excited state.\n",
    "\n",
    "The abosrption spectrum of sample before flash is necessary. The script is basically global fit for two components (triplet state and ground state). The formation of singlet state is neglected, because it is usually too fast to see on nanosecond transient spectroscopy.\n",
    "\n",
    "\n",
    "The transient absorption spectra are acquiered as time-dependent difference spectra\n",
    "$$\\Delta A(t, \\lambda) = A(t, \\lambda) - A_{\\mathrm{GS}}(\\lambda)$$\n",
    "where $A_{\\mathrm{GS}}(\\lambda)$ is a absorption spectrum of a ground state before excitation. The spectra itself consist in our case of two components, the triplet and ground state that both changes concentrations over time\n",
    "$$A(t, \\lambda) =  l\\sum_{i=1}^{n}\\varepsilon_i(\\lambda) c_i(t)=l\\left[\\varepsilon_{\\mathrm T}(\\lambda) c_{\\mathrm T}(t) + \\varepsilon_{\\mathrm{GS}}(\\lambda)c_{\\mathrm{GS}}(t)\\right]$$\n",
    "where $\\varepsilon_i(\\lambda)$ are mol. abs. coefficients of individual components and $c_i(t)$ are concentrations of these components.\n",
    "\n",
    "The changes in concentrations of triplet and ground state can be expressed in differential equtions\n",
    "\\begin{align*}\n",
    "\\frac{\\mathrm d c_{\\mathrm T}(t)}{\\mathrm d t} &= -kc_{\\mathrm T}(t)\\\\\n",
    "\\frac{\\mathrm d c_{\\mathrm{GS}}(t)}{\\mathrm d t} &= kc_{\\mathrm T}(t)\n",
    "\\end{align*}\n",
    "with these initial conditions\n",
    "\\begin{align*}\n",
    "c_{\\mathrm T}(0) &= \\Phi_{\\mathrm{ISC}}c_{\\mathrm{GS}}^0\\\\\n",
    "c_{\\mathrm{GS}}(0) &= \\left(1 - \\Phi_{\\mathrm{ISC}}\\right)c_{\\mathrm{GS}}^0\n",
    "\\end{align*}\n",
    "where $k$ is rate constant of triplet state decay into ground state, $\\Phi_{\\mathrm{ISC}}$ is intersystem crossing quantum yield and $c_{\\mathrm{GS}}^0$ is analytical concentration of a ground state before excitation. These initial conditions are the most important part, we presume that __all molecules__ were excited and we are looking at the time, when all of singlet already decayed to ground state and some triplet. For example it means that concentration of the triplet would be equal to the concentration of a ground state before excitation ($c_{\\mathrm T}(0) = c_{\\mathrm{GS}}^0$) if $\\Phi_{\\mathrm{ISC}}=1$.\n",
    "\n",
    "Solution of these diff. equations is straightforward:\n",
    "\\begin{align*}\n",
    "c_{\\mathrm T}(t) &= c_{\\mathrm{GS}}^0\\Phi_{\\mathrm{ISC}}e^{-kt}\\\\\n",
    "c_{\\mathrm{GS}}(t) &= c_{\\mathrm{GS}}^0\\left(1 - \\Phi_{\\mathrm{ISC}}e^{-kt}\\right)\n",
    "\\end{align*}\n",
    "\n",
    "Then, our difference time dependent spectra consist of mixing of these two components\n",
    "\n",
    "$$\\Delta A(t, \\lambda) = A(t, \\lambda) - A_{\\mathrm{GS}}(\\lambda) = l\\left[\\varepsilon_{\\mathrm T}(\\lambda) c_{\\mathrm T}(t) + \\varepsilon_{\\mathrm{GS}}(\\lambda)c_{\\mathrm{GS}}(t) - \\varepsilon_{\\mathrm{GS}}(\\lambda)c_{\\mathrm{GS}}^0\\right] = l\\left[\\varepsilon_{\\mathrm T}(\\lambda) c_{\\mathrm T}(t) + \\varepsilon_{\\mathrm{GS}}(\\lambda)c_{\\mathrm{GS}}^{\\prime}(t) \\right]$$\n",
    "\n",
    "where $c_{\\mathrm{GS}}^{\\prime}(t) = -c_{\\mathrm{GS}}^0\\Phi_{\\mathrm{ISC}}e^{-kt}$\n",
    "\n",
    "The only thing we need to do is to fit this function to our data and find unknown parameters ($k$ and $\\Phi_{\\mathrm{ISC}}$) and the mol. abs. coefficient of a triplet state $\\varepsilon_{\\mathrm T}(\\lambda)$. All other spectra and parameters should be known. Looks easy right ? (irony)\n",
    "\n",
    "\n",
    "First, we have a discrete data points, not functions, so we can represent our measured data as a matrix $\\mathbf D$. Then, we can separate concentration profiles and spectra into matrices, because they do not depend on each other. Here we presume that Beer-Lambert law holds and we can perform so-called bilinear decomposition.\n",
    "\n",
    "$$\\mathbf D=\n",
    "\\begin{bmatrix}\n",
    "     \\Delta A_{11} & \\Delta A_{12} & \\Delta A_{13} & \\dots  & \\Delta A_{1n} \\\\\n",
    "     \\Delta A_{21} & \\Delta A_{22} & \\Delta A_{23} & \\dots  & \\Delta A_{2n} \\\\\n",
    "     \\vdots & \\vdots & \\vdots & \\ddots & \\vdots \\\\\n",
    "     \\Delta A_{m1} & \\Delta A_{m2} & \\Delta A_{m3} & \\dots  & \\Delta A_{mn} \n",
    "\\end{bmatrix}=l\n",
    "\\begin{bmatrix}\n",
    "     c_{1\\mathrm T} & c_{1\\mathrm{GS}}^{\\prime}   \\\\\n",
    "     c_{2\\mathrm T} & c_{2\\mathrm{GS}}^{\\prime}   \\\\\n",
    "     \\vdots & \\vdots  \\\\\n",
    "     c_{m\\mathrm T} & c_{m\\mathrm{GS}}^{\\prime}   \n",
    "\\end{bmatrix}\n",
    "\\begin{bmatrix}\n",
    "     \\varepsilon_{\\mathrm T1} & \\varepsilon_{\\mathrm T2}  & \\dots  & \\varepsilon_{\\mathrm Tn} \\\\\n",
    "     \\varepsilon_{\\mathrm{GS}1} & \\varepsilon_{\\mathrm{GS}2}  & \\dots  & \\varepsilon_{\\mathrm{GS}n}\n",
    "\\end{bmatrix}=l\\mathbf{CS^T}$$\n",
    "\n",
    "\n",
    "where $\\overset{m\\ \\times\\ n}{\\mathbf{D}}$ is a data matrix that contains our measured difference spectra, $\\overset{m\\ \\times\\ 2}{\\mathbf{C}}$ is a concentration matrix and $\\overset{n\\ \\times\\ 2}{\\mathbf{S}}$ is a spectra matrix and $m$ are number of time points and $n$ is number of wavelength points that were acquiered.\n",
    "\n",
    "Next, we do a global fit for this system, we can write it mathematically that concentration matrix $\\mathbf{C(\\Theta)}$ is parametrized by unknown vector $\\mathbf{\\Theta}=\\left(k, \\Phi_{\\mathrm{ISC}}\\right)$ that contains our parameters. Then, we are trying to find such parameters that would fit this matrix equation the best, so we need to minimize the sum of squares of residuals of measured data and our simulated data.\n",
    "$$\\min_{\\mathbf\\Theta}\\vert\\vert\\mathbf{D - C(\\Theta)S^T}\\vert\\vert^2$$\n",
    "We have to use some non-linear least squares fitting algorithm like Lavenberg-Marquardt or Nelder-Mead simplex method. At each iteration of the minimization, we got a new set parameters that we use to calculate $\\mathbf{C(\\Theta)}$ and from that we can calculate the unknown spectra by least squares\n",
    "$$\\mathbf{S^T = C^+D}$$\n",
    "where $\\mathbf C^+ = \\mathbf{\\left(C^TC\\right)^{-1}C^T}$ is Moore-Penrose pseudoinverse (actually in the code, we solve for $\\mathbf{S^T}$ by least squares solver, because calculation of pseudoinverse is computationaly demanding). After solving for $\\mathbf{S^T}$, we need to replace the second row of a matrix by ground state spectrum (or epsilon) that is known. Then, we calculate our simulated data and their residual from measured data and return this residual matrix to the algorithm.\n",
    "$$\\mathbf{s_2^T} = \\varepsilon_{\\mathrm{GS}}(\\lambda)$$\n",
    "\n",
    "### Recomended literature\n",
    "1. van Stokkum, I. H. M., Larsen, D. S., & van Grondelle, R. (__2004__). Global and target analysis of time-resolved spectra. _Biochimica et Biophysica Acta (BBA) - Bioenergetics_, 1657(2–3), 82–104. https://doi.org/10.1016/j.bbabio.2004.04.011\n",
    "2. R. Bonneau, I. Carmichael, G. L. Hug, Molar absorption coefficients of transient species in solution, _Pure Appl. Chem._, __1991__, 63, 290-299\n",
    "3. Marcel Meader; Practical Data Analysis in Chemistry. __2007__. _Elsevier_. ISBN: 978-0-444-53054-7 \n",
    "4. Klán, P.; Wirz, J. Photochemistry of Organic Compounds: From Concepts to Practice, 1st ed.; John Wiley & Sons Ltd.: Chichester, UK, __2009__, ISBN: 978-1-405-16173-2\n",
    "5. Cyril Ruckebusch; Resolving Spectral Mixtures With Applications from Ultrafast Time-Resolved Spectroscopy to Super-Resolution Imaging. __2016__. _Elsevier_. ISBN: 9780444636386\n"
   ]
  },
  {
   "cell_type": "markdown",
   "metadata": {},
   "source": [
    "## Validity of the method\n",
    "\n",
    "Presented method can be used only if these requirements are satisfied:\n",
    "\n",
    "- All molecules must be transformed to excited state during the laser pulse\n",
    "- Triplet does not interact with ground state or with itself and decays with $1^{\\mathrm{st}}$ order (no T-T annihilation or selfquenching or these effect must be negligible), actually, these effects can be modeled by extending the kinetic model, but then it gets more complicated\n"
   ]
  },
  {
   "cell_type": "code",
   "execution_count": 5,
   "metadata": {},
   "outputs": [],
   "source": [
    "import numpy as np  # numerical Python - all calculations and matrix operations\n",
    "import matplotlib.pyplot as plt  # plotting library\n",
    "from scipy.linalg import lstsq  # least squares solver from scipy\n",
    "import lmfit  # library used for non-linear least squares fitting"
   ]
  },
  {
   "cell_type": "code",
   "execution_count": 20,
   "metadata": {},
   "outputs": [],
   "source": [
    "user_gradient = \"0.0\\t1\\t0\\t0\\t1\\n0.5\\t0\\t1\\t0\\t1\\n1.0\\t0\\t0\\t1\\t1\\n\\n\""
   ]
  },
  {
   "cell_type": "code",
   "execution_count": 23,
   "metadata": {},
   "outputs": [],
   "source": [
    "\n",
    "lines = user_gradient.split('\\n')\n",
    "lines = list(filter(None, lines))  # remove empty entries"
   ]
  },
  {
   "cell_type": "code",
   "execution_count": 26,
   "metadata": {},
   "outputs": [
    {
     "data": {
      "text/plain": [
       "array([[  0. , 255. ,   0. ,   0. , 255. ],\n",
       "       [  0.5,   0. , 255. ,   0. , 255. ],\n",
       "       [  1. ,   0. ,   0. , 255. , 255. ]], dtype=float32)"
      ]
     },
     "execution_count": 26,
     "metadata": {},
     "output_type": "execute_result"
    }
   ],
   "source": [
    "data = np.zeros((len(lines), 5), dtype=np.float32)\n",
    "\n",
    "for i, line in enumerate(lines):\n",
    "    entries = line.split('\\t')\n",
    "    data[i] = np.asarray([float(entry) for entry in entries])\n",
    "\n",
    "data[:, 1:] *= 255\n",
    "data\n",
    "    \n"
   ]
  },
  {
   "cell_type": "code",
   "execution_count": 82,
   "metadata": {},
   "outputs": [
    {
     "data": {
      "text/plain": [
       "0"
      ]
     },
     "execution_count": 82,
     "metadata": {},
     "output_type": "execute_result"
    }
   ],
   "source": [
    "array = data[:, 0].flatten()\n",
    "idx_pos = np.searchsorted(array, 0.49, side=\"right\")\n",
    "\n",
    "idx_pos -= 1 if idx_pos > 0 else 0\n",
    "idx_pos -= 1 if idx_pos == len(array) - 1 else 0\n",
    "idx_pos"
   ]
  },
  {
   "cell_type": "code",
   "execution_count": null,
   "metadata": {},
   "outputs": [],
   "source": []
  }
 ],
 "metadata": {
  "kernelspec": {
   "display_name": "Python 3",
   "language": "python",
   "name": "python3"
  },
  "language_info": {
   "codemirror_mode": {
    "name": "ipython",
    "version": 3
   },
   "file_extension": ".py",
   "mimetype": "text/x-python",
   "name": "python",
   "nbconvert_exporter": "python",
   "pygments_lexer": "ipython3",
   "version": "3.7.3"
  }
 },
 "nbformat": 4,
 "nbformat_minor": 2
}
