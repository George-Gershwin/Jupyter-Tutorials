{
 "cells": [
  {
   "cell_type": "code",
   "execution_count": 55,
   "metadata": {},
   "outputs": [],
   "source": [
    "from sympy import *\n",
    "t, K, k_r, k_delta, epsilon_prime = symbols('t K k_r k_\\Delta \\\\varepsilon\\prime')\n",
    "x = Function('x')\n",
    "y = Function('y')\n",
    "eq1 = Eq(x(t).diff(), -K * x(t) **2 / k_delta)\n",
    "# eq2 = Eq(y(t).diff(), K * x(t)  - k_delta * y(t))\n",
    "\n",
    "c0 = symbols('c0')\n",
    "\n",
    "# eq1\n",
    "\n",
    "ics = {x(0): c0}\n",
    "sol = dsolve(eq1, ics=ics)\n",
    "\n",
    "# # sol"
   ]
  },
  {
   "cell_type": "code",
   "execution_count": 56,
   "metadata": {},
   "outputs": [
    {
     "data": {
      "text/latex": [
       "$\\displaystyle \\frac{d}{d t} x{\\left(t \\right)} = - \\frac{K x^{2}{\\left(t \\right)}}{k_\\Delta}$"
      ],
      "text/plain": [
       "Eq(Derivative(x(t), t), -K*x(t)**2/k_\\Delta)"
      ]
     },
     "execution_count": 56,
     "metadata": {},
     "output_type": "execute_result"
    }
   ],
   "source": [
    "eq1"
   ]
  },
  {
   "cell_type": "code",
   "execution_count": 57,
   "metadata": {},
   "outputs": [
    {
     "data": {
      "text/latex": [
       "$\\displaystyle x{\\left(t \\right)} = \\frac{k_\\Delta}{K t + \\frac{k_\\Delta}{c_{0}}}$"
      ],
      "text/plain": [
       "Eq(x(t), k_\\Delta/(K*t + k_\\Delta/c0))"
      ]
     },
     "execution_count": 57,
     "metadata": {},
     "output_type": "execute_result"
    }
   ],
   "source": [
    "sol\n"
   ]
  },
  {
   "cell_type": "code",
   "execution_count": 67,
   "metadata": {},
   "outputs": [
    {
     "data": {
      "text/latex": [
       "$\\displaystyle \\frac{k_\\Delta \\left(1 - \\alpha\\right)}{K \\alpha c_{0}}$"
      ],
      "text/plain": [
       "k_\\Delta*(1 - \\alpha)/(K*\\alpha*c0)"
      ]
     },
     "execution_count": 67,
     "metadata": {},
     "output_type": "execute_result"
    }
   ],
   "source": [
    "alpha = symbols('\\\\alpha')\n",
    "\n",
    "solve(Eq(alpha * c0, sol.rhs), t)[0]"
   ]
  },
  {
   "cell_type": "code",
   "execution_count": 58,
   "metadata": {},
   "outputs": [
    {
     "data": {
      "text/latex": [
       "$\\displaystyle \\frac{d}{d t} y{\\left(t \\right)} = \\frac{K k_\\Delta}{K t + \\frac{k_\\Delta}{c_{0}}} - k_\\Delta y{\\left(t \\right)}$"
      ],
      "text/plain": [
       "Eq(Derivative(y(t), t), K*k_\\Delta/(K*t + k_\\Delta/c0) - k_\\Delta*y(t))"
      ]
     },
     "execution_count": 58,
     "metadata": {},
     "output_type": "execute_result"
    }
   ],
   "source": [
    "eq2 = Eq(y(t).diff(), K * sol.rhs - k_delta * y(t))\n",
    "eq2"
   ]
  },
  {
   "cell_type": "code",
   "execution_count": 61,
   "metadata": {},
   "outputs": [],
   "source": [
    "sol1 = dsolve(eq2, isc={y(0): 0})"
   ]
  },
  {
   "cell_type": "code",
   "execution_count": 62,
   "metadata": {},
   "outputs": [
    {
     "data": {
      "text/latex": [
       "$\\displaystyle y{\\left(t \\right)} = \\left(C_{1} + K c_{0} k_\\Delta \\int \\frac{e^{k_\\Delta t}}{K c_{0} t + k_\\Delta}\\, dt\\right) e^{- k_\\Delta t}$"
      ],
      "text/plain": [
       "Eq(y(t), (C1 + K*c0*k_\\Delta*Integral(exp(k_\\Delta*t)/(K*c0*t + k_\\Delta), t))*exp(-k_\\Delta*t))"
      ]
     },
     "execution_count": 62,
     "metadata": {},
     "output_type": "execute_result"
    }
   ],
   "source": [
    "sol1"
   ]
  }
 ],
 "metadata": {
  "kernelspec": {
   "display_name": "Python 3",
   "language": "python",
   "name": "python3"
  },
  "language_info": {
   "codemirror_mode": {
    "name": "ipython",
    "version": 3
   },
   "file_extension": ".py",
   "mimetype": "text/x-python",
   "name": "python",
   "nbconvert_exporter": "python",
   "pygments_lexer": "ipython3",
   "version": "3.7.3"
  }
 },
 "nbformat": 4,
 "nbformat_minor": 4
}
