{
 "cells": [
  {
   "cell_type": "markdown",
   "metadata": {},
   "source": [
    "# Singlet oxygen generation by photosensitizer\n",
    "## Differential equations\n",
    "\n",
    "\\begin{align}\n",
    "\\frac{\\mathrm d[\\mathrm{PS}]}{\\mathrm dt} &= - k_r[\\mathrm{PS}][^1\\mathrm O_2]\\\\\n",
    "\\frac{\\mathrm d[^1\\mathrm O_2]}{\\mathrm dt} &= \\frac{1}{V}\\Phi_\\Delta q_0 \\left(1 - 10^{-l\\varepsilon [\\mathrm{PS}]}\\right) - k_\\Delta[^1\\mathrm O_2] - k_r[\\mathrm{PS}][^1\\mathrm O_2] \\color{gray}{- [^1\\mathrm O_2]\\left( k_q^\\prime [\\mathrm{PS}] + \\dots\\right)} \n",
    "\\end{align}\n",
    "\n",
    "where $k_r$ is the bimolecular rate constant of destruction of the photosensitizer (PS) by $^1\\mathrm O_2$, $V$ is the volume of irradiated solution in cuvette, $q_0$ is incident photon flux ($[q_0]=\\text{einstein}\\ \\mathrm{s}^{-1}$), $l$ is traveled light distance throught a cuvette, $\\varepsilon$ is molar abs. coefficient of PS at irradiation wavelength and $k_\\Delta$ is the first order decay rate constant of $^1\\mathrm O_2$ to $^3\\mathrm O_2$. The $\\Phi_\\Delta$ is the singlet oxygen quantum yield, based on http://nathan.instras.com/MyDocsDB/doc-557.pdf:\n",
    "\n",
    "$$\\Phi_\\Delta = \\Phi_{\\mathrm T}\\left(\\frac{k_{en}[^3\\mathrm O_2]}{k_{d} + k_{q}[^3\\mathrm O_2]}\\right)$$\n",
    "$$k_{en} \\approx \\frac19 k_{diff.}$$\n",
    "\n",
    "where $\\Phi_{\\mathrm T}$ is the quantum yield of the tripet state formation of the PS, $k_{en}$ is rate constant of energy transfer, that is the TT annihilation of PS and $^3\\mathrm O_2$, $k_{q}$ is the sum of rate constants of quenching of PS by $^3\\mathrm O_2$, ($k_{en} \\leq k_q$) and $k_{d}$ is the first order decay rate constant of $^3$PS by radiative and non-radiative processes.\n",
    "\n",
    "Singlet oxygen quantum yield will be always less or equal than quantum yield of triplet state formation of PS ($\\Phi_\\Delta \\leq \\Phi_{\\mathrm T}$).\n",
    "\n",
    "\n",
    "### Equilibrium concentration of $[^1\\mathrm O_2]$: steady state approximation\n",
    "\n",
    "Steady state approximation is fully valid since decay of PS is much slower than changes in $[^1\\mathrm O_2]$:\n",
    "\n",
    "$$\\frac{\\mathrm d[^1\\mathrm O_2]}{\\mathrm dt} = 0$$\n",
    "\n",
    "$$[^1\\mathrm O_2] = \\frac{\\Phi_\\Delta q_0 \\left(1 - 10^{-l\\varepsilon [\\mathrm{PS}]}\\right)}{V\\left( k_\\Delta + k_r[\\mathrm{PS}] \\right)}$$\n",
    "\n",
    "Then, \n",
    "\n",
    "$$\\frac{\\mathrm d[\\mathrm{PS}]}{\\mathrm dt} = - k_r[\\mathrm{PS}]\\frac{\\Phi_\\Delta q_0 \\left(1 - 10^{-l\\varepsilon [\\mathrm{PS}]}\\right)}{V\\left( k_\\Delta + k_r[\\mathrm{PS}] \\right)}$$\n",
    "\n",
    "this has not analytical solution or is extremely complicated\n",
    "\n",
    "#### 1$^{\\mathrm{st}}$ approximation (full absorption regime, $A>2$ and $k_\\Delta \\gg k_r[\\mathrm{PS}]$):\n",
    "\n",
    "$$\\frac{\\mathrm d[\\mathrm{PS}]}{\\mathrm dt} = - \\frac{k_r\\Phi_\\Delta q_0 }{V k_\\Delta}[\\mathrm{PS}]$$\n",
    "\n",
    "$\\gg$ first order law $\\dots$\n",
    "\n",
    "\n",
    "#### 2$^{\\mathrm{nd}}$ approximation (almost no absorption, $A\\approx 0$ and $k_\\Delta \\gg k_r[\\mathrm{PS}]$):\n",
    "\n",
    "$e^x \\approx 1+x$ for small $x$, therefore $10^x \\approx 1+x\\ln10$ for small $x$\n",
    "\n",
    "$$\\frac{\\mathrm d[\\mathrm{PS}]}{\\mathrm dt} = - \\frac{k_r\\Phi_\\Delta q_0 l\\varepsilon\\ln(10)}{V k_\\Delta} [\\mathrm{PS}]^2$$\n",
    "\n",
    "$\\gg$ second order law $\\dots$\n"
   ]
  },
  {
   "cell_type": "code",
   "execution_count": 168,
   "metadata": {
    "scrolled": true
   },
   "outputs": [
    {
     "data": {
      "text/plain": [
       "106382.97872340426"
      ]
     },
     "execution_count": 168,
     "metadata": {},
     "output_type": "execute_result"
    }
   ],
   "source": [
    "k_Delta = 1/9.4e-6\n",
    "k_Delta"
   ]
  },
  {
   "cell_type": "code",
   "execution_count": 278,
   "metadata": {
    "scrolled": true
   },
   "outputs": [
    {
     "data": {
      "text/html": [
       "        <script type=\"text/javascript\">\n",
       "        window.PlotlyConfig = {MathJaxConfig: 'local'};\n",
       "        if (window.MathJax) {MathJax.Hub.Config({SVG: {font: \"STIX-Web\"}});}\n",
       "        if (typeof require !== 'undefined') {\n",
       "        require.undef(\"plotly\");\n",
       "        requirejs.config({\n",
       "            paths: {\n",
       "                'plotly': ['https://cdn.plot.ly/plotly-latest.min']\n",
       "            }\n",
       "        });\n",
       "        require(['plotly'], function(Plotly) {\n",
       "            window._Plotly = Plotly;\n",
       "        });\n",
       "        }\n",
       "        </script>\n",
       "        "
      ]
     },
     "metadata": {},
     "output_type": "display_data"
    }
   ],
   "source": [
    "import numpy as np\n",
    "import plotly as py\n",
    "import plotly.graph_objs as go\n",
    "import ipywidgets as widgets\n",
    "import math\n",
    "# from IPython import display\n",
    "from scipy.integrate import odeint\n",
    "\n",
    "from IPython.display import display, clear_output, Image\n",
    "# from plotly.widgets import GraphWidget\n",
    "\n",
    "py.offline.init_notebook_mode(connected=True)\n",
    "\n",
    "from plotly.offline import iplot\n",
    "\n",
    "import matplotlib.pyplot as plt\n",
    "\n",
    "layout = go.Layout(\n",
    "    title='',\n",
    "    xaxis=dict(\n",
    "        title=\"Time / s\",\n",
    "#         range=[-0.1, 10],\n",
    "        showline=True,\n",
    "        mirror='ticks',\n",
    "        zeroline=False\n",
    "    ),\n",
    "    yaxis=dict(\n",
    "        title=\"Concentration / M\",\n",
    "#         range=[0,1.1],\n",
    "        showline=True,\n",
    "        color='red',\n",
    "        mirror='ticks',\n",
    "        zeroline=False\n",
    "    ),\n",
    "    yaxis2=dict(\n",
    "        title='Absorbance',\n",
    "        overlaying='y',\n",
    "        side='right',\n",
    "        color='blue'\n",
    "    )\n",
    ")\n",
    "\n",
    "fig = go.FigureWidget(data=[\n",
    "    dict(\n",
    "        type='scatter',\n",
    "        mode='lines',\n",
    "        yaxis='y1',\n",
    "        line=dict(\n",
    "                color='red',\n",
    "                width=2\n",
    "            )),\n",
    "    dict(\n",
    "        type='scatter',\n",
    "        mode='lines',\n",
    "        yaxis='y2',\n",
    "        line=dict(\n",
    "            color='blue',\n",
    "            width=2,\n",
    "#             dash='dash'\n",
    "            )),\n",
    "#     dict(\n",
    "#         type='scatter',\n",
    "#         mode='lines',\n",
    "#         yaxis='y1',\n",
    "#         line=dict(\n",
    "#             color='black',\n",
    "#             width=1,\n",
    "#             dash='dot'\n",
    "#             )),\n",
    "     dict(\n",
    "        type='scatter',\n",
    "        mode='lines',\n",
    "         yaxis='y2',\n",
    "        line=dict(\n",
    "            color='black',\n",
    "            width=2,\n",
    "            dash='dot'\n",
    "            )),\n",
    "    dict(\n",
    "        type='scatter',\n",
    "        mode='lines',\n",
    "         yaxis='y2',\n",
    "        line=dict(\n",
    "            color='green',\n",
    "            width=2,\n",
    "            dash='dot'\n",
    "            )),\n",
    "], layout=layout)\n",
    "\n",
    "N = 500\n",
    "\n",
    "times = np.linspace(0, 10, num=N, dtype=np.float64)\n",
    "V = 3e-3\n",
    "alpha = 0.99  # the decrese of initial concentration of PS\n",
    "\n",
    "fig.data[0].x = times\n",
    "fig.data[1].x = times\n",
    "fig.data[2].x = times\n",
    "fig.data[3].x = times\n",
    "# fig.data[4].x = times\n",
    "fig.data[0].name = '[<sup>1</sup>O<sub>2</sub>]'\n",
    "fig.data[1].name = 'PS Abs'\n",
    "# fig.data[2].name = '<sup>1</sup>O<sub>2</sub> initial equlibrium conc.'\n",
    "fig.data[2].name = 'PS Abs (2nd order approx)'\n",
    "fig.data[3].name = 'PS Abs (1st order approx)'\n",
    "\n",
    "def calc_eq_conc(c_PS=1e-4, Phi_Delta=0.2, k_r=1e7, k_delta=1e5, V=V, q0=1e-3, epsilon=2e5):\n",
    "    return Phi_Delta * q0 * (1-10**(-epsilon * c_PS)) / (V * (k_delta + k_r * c_PS))\n",
    "\n",
    "\n",
    "def update(PS_0, Phi_Delta, k_r, k_delta, V, q0, epsilon, eq_conc, t_range, t_autorange, alpha=0.95):\n",
    "    \n",
    "    # approx. solution based on second order and k_delta >> k_r * cPS\n",
    "    _K = Phi_Delta * q0 * np.log(10) * epsilon * k_r / V\n",
    "    \n",
    "    # t = k_delta *  alpha / (_K * (1-alpha) * c0)\n",
    "    t_max = k_delta *  alpha / (_K * (1 - alpha) * PS_0)\n",
    "    \n",
    "    times = np.linspace(0, t_max if t_autorange else t_range, num=N, dtype=np.float64)\n",
    "    \n",
    "    fig.data[0].x = times\n",
    "    fig.data[1].x = times\n",
    "    fig.data[2].x = times\n",
    "    fig.data[3].x = times\n",
    "\n",
    "    # intial equilibrium singlet oxygen concentration\n",
    "    c_1_O2_eq = calc_eq_conc(PS_0, Phi_Delta, k_r, k_delta, V, q0, epsilon)\n",
    "    \n",
    "    # approx solution based on second order (almost no light absorbed)\n",
    "    A_PS_approx_2nd = epsilon * k_delta / (_K * times + k_delta / PS_0)\n",
    "    \n",
    "    # approx solution based on first order (all light absorbed)\n",
    "    A_PS_approx_1st = epsilon * PS_0 * np.exp(-k_r * Phi_Delta * q0 * times / (V * k_delta))\n",
    "    \n",
    "    PS_0 *= 1e6  # need in uM units\n",
    "    k_r *= 1e-6\n",
    "    q0 *= 1e6\n",
    "    epsilon *= 1e-6\n",
    "    \n",
    "    def solve(conc, t):\n",
    "        c_PS, c_1_O2 = conc\n",
    "\n",
    "        dc_PS_dt = - k_r * c_PS * c_1_O2\n",
    "        dc_1_O2_dt = + Phi_Delta * q0 * (1 - 10 ** (-epsilon * c_PS)) / V  - k_delta * c_1_O2 - k_r * c_PS * c_1_O2\n",
    "\n",
    "        return [dc_PS_dt, dc_1_O2_dt]\n",
    "    \n",
    "    def solve_approx(c, t):\n",
    "        return - k_r * c * Phi_Delta * q0 * (1 - 10** (-epsilon * c)) / (V * (k_delta + k_r * c))\n",
    "    \n",
    "    if eq_conc:  # steady state approximation\n",
    "        c_PS = odeint(solve_approx, PS_0, times).squeeze()  # convert back to M units\n",
    "        c_1_O2 = calc_eq_conc(c_PS, Phi_Delta, k_r, k_delta, V, q0, epsilon) * 1e-6\n",
    "        c_PS *= 1e-6\n",
    "        \n",
    "    else:\n",
    "        result = odeint(solve, [PS_0, 0], times) * 1e-6  # convert back to M units\n",
    "        c_PS = result[:, 0] \n",
    "        c_1_O2 = result[:, 1]\n",
    "    \n",
    "#     fig.data[0].y = c_PS #/ c_PS.max()\n",
    "    fig.data[0].y = c_1_O2\n",
    "    fig.data[1].y = c_PS * epsilon * 1e6\n",
    "    \n",
    "#     fig.data[2].y = np.ones(times.shape[0]) * c_1_O2_eq  # equlibrium concentration at initial time\n",
    "    \n",
    "    fig.data[2].y = A_PS_approx_2nd\n",
    "    fig.data[3].y = A_PS_approx_1st\n",
    "    \n",
    "\n",
    "# py.offline.iplot(fig)\n",
    "\n",
    "# PS_0 = widgets.FloatSlider(min=0, max=1e-5, value=5e-6, step=1e-6, description='[PS]<sub>0</sub>')\n",
    "Phi_Delta = widgets.FloatSlider(min=0, max=1, value=0.2, step=0.1,description='Φ<sub>Δ</sub>')\n",
    "# k_r = widgets.FloatSlider(min=0, max=1e7, value=1e7, step=1e6,description='k<sub>r</sub>')\n",
    "k_delta = widgets.FloatSlider(min=1e4, max=5e5, value=k_Delta, step=1e4,description='k<sub>Δ</sub>')\n",
    "# V = widgets.FloatSlider(min=1e-3, max=5e-3, value=2e-3, step=1e-3,description='V')\n",
    "# q0 = widgets.FloatSlider(min=0, max=1e-8, value=5e-9, step=1e-9,description='q<sub>0</sub>')\n",
    "epsilon = widgets.FloatSlider(min=5e4, max=3e5, value=2e5, step=1e4, description='epsilon')\n",
    "\n",
    "# the percentual decrese of initial concentration of PS\n",
    "alpha = widgets.FloatSlider(min=0.01, max=0.99, value=0.95, step=0.01, description='alpha')\n",
    "\n",
    "PS_0 = widgets.FloatLogSlider(\n",
    "    value=1e-5,\n",
    "    base=10,\n",
    "    min=-7, # max exponent of base\n",
    "    max=-4, # min exponent of base\n",
    "    step=0.2, # exponent step\n",
    "    description='[PS]<sub>0</sub>'\n",
    ")\n",
    "\n",
    "q0 = widgets.FloatLogSlider(\n",
    "    value=1e-7,\n",
    "    base=10,\n",
    "    min=-9, # max exponent of base\n",
    "    max=-2, # min exponent of base\n",
    "    step=0.2, # exponent step\n",
    "    description='q<sub>0</sub>'\n",
    ")\n",
    "\n",
    "k_r = widgets.FloatLogSlider(\n",
    "    value=1e6,\n",
    "    base=10,\n",
    "    min=3, # max exponent of base\n",
    "    max=9, # min exponent of base\n",
    "    step=0.2, # exponent step\n",
    "    description='k<sub>r</sub>'\n",
    ")\n",
    "\n",
    "t_range = widgets.FloatLogSlider(\n",
    "    value=1e5,\n",
    "    base=10,\n",
    "    min=-3, # max exponent of base\n",
    "    max=5, # min exponent of base\n",
    "    step=0.2, # exponent step\n",
    "    description='times range'\n",
    ")\n",
    "\n",
    "eq_conc = widgets.Checkbox(value=True, description='Use Bodenstein approx.')\n",
    "t_autorange = widgets.Checkbox(value=True, description='Time autorange')\n",
    "\n",
    "def find_nearest_idx(array, value):\n",
    "    if isinstance(value, (int, float)):\n",
    "        value = np.asarray([value])\n",
    "    else:\n",
    "        value = np.asarray(value)\n",
    "\n",
    "    result = np.empty_like(value, dtype=int)\n",
    "    for i in range(value.shape[0]):\n",
    "        idx = np.searchsorted(array, value[i], side=\"left\")\n",
    "        if idx > 0 and (\n",
    "                idx == len(array) or math.fabs(value[i] - array[idx - 1]) < math.fabs(value[i] - array[idx])):\n",
    "            result[i] = idx - 1\n",
    "        else:\n",
    "            result[i] = idx\n",
    "    return result if result.shape[0] > 1 else result[0]"
   ]
  },
  {
   "cell_type": "code",
   "execution_count": 251,
   "metadata": {
    "scrolled": false
   },
   "outputs": [
    {
     "data": {
      "application/vnd.jupyter.widget-view+json": {
       "model_id": "ed23e1cedf764b8a87431ec243281c39",
       "version_major": 2,
       "version_minor": 0
      },
      "text/plain": [
       "HBox(children=(FloatLogSlider(value=1e-05, description='[PS]<sub>0</sub>', max=-4.0, min=-7.0, step=0.2), Floa…"
      ]
     },
     "metadata": {},
     "output_type": "display_data"
    },
    {
     "data": {
      "application/vnd.jupyter.widget-view+json": {
       "model_id": "11efd54cbb2b4ef69e87aba598328b52",
       "version_major": 2,
       "version_minor": 0
      },
      "text/plain": [
       "HBox(children=(FloatLogSlider(value=0.001, description='q<sub>0</sub>', max=-2.0, min=-9.0, step=0.2), FloatSl…"
      ]
     },
     "metadata": {},
     "output_type": "display_data"
    },
    {
     "data": {
      "application/vnd.jupyter.widget-view+json": {
       "model_id": "23c1d6db8a1449aeba9e0c566117786a",
       "version_major": 2,
       "version_minor": 0
      },
      "text/plain": [
       "HBox(children=(Checkbox(value=True, description='Use Bodenstein approx.'), Checkbox(value=True, description='T…"
      ]
     },
     "metadata": {},
     "output_type": "display_data"
    },
    {
     "data": {
      "application/vnd.jupyter.widget-view+json": {
       "model_id": "de1ed43fede54b699bbb9ae7e10ff25a",
       "version_major": 2,
       "version_minor": 0
      },
      "text/plain": [
       "FloatLogSlider(value=100000.0, description='times range', max=5.0, min=-3.0, step=0.2)"
      ]
     },
     "metadata": {},
     "output_type": "display_data"
    },
    {
     "data": {
      "application/vnd.jupyter.widget-view+json": {
       "model_id": "6eb6dafd95104f45be014236c1851bc1",
       "version_major": 2,
       "version_minor": 0
      },
      "text/plain": [
       "FigureWidget({\n",
       "    'data': [{'line': {'color': 'red', 'width': 2},\n",
       "              'mode': 'lines',\n",
       "            …"
      ]
     },
     "metadata": {},
     "output_type": "display_data"
    }
   ],
   "source": [
    "widgets.interactive(update, PS_0=PS_0, Phi_Delta=Phi_Delta, k_r=k_r, \n",
    "                    k_delta=k_delta, V=V, q0=q0, epsilon=epsilon, eq_conc=eq_conc,\n",
    "                    t_range=t_range, t_autorange=t_autorange, alpha=alpha)\n",
    "\n",
    "display(widgets.HBox([PS_0, Phi_Delta, k_r]))\n",
    "# display(widgets.HBox([k_r, k_delta]))\n",
    "display(widgets.HBox([q0, epsilon, k_delta]))\n",
    "display(widgets.HBox([eq_conc, t_autorange, alpha]))\n",
    "display(t_range)\n",
    "\n",
    "fig.update_layout(legend=dict(x=-.05, y=1.35))\n",
    "\n",
    "# iplot(fig)\n",
    "display(fig)"
   ]
  },
  {
   "cell_type": "markdown",
   "metadata": {},
   "source": [
    "## Integration of $[^1\\mathrm O_2]$\n",
    "\n",
    "\n",
    "\n"
   ]
  },
  {
   "cell_type": "code",
   "execution_count": 336,
   "metadata": {
    "scrolled": false
   },
   "outputs": [],
   "source": [
    "alpha = 0.96 # the percentual decrese of initial concentration of PS\n",
    "\n",
    "PS_0 = 1e-3\n",
    "Phi_Delta=0.2\n",
    "k_r=1e7\n",
    "k_delta=1/9.4e-6\n",
    "V=3e-3\n",
    "q0=1e-8\n",
    "epsilon=2e5\n",
    "\n",
    "\n",
    "def _solve_time_profiles(PS_0=PS_0, Phi_Delta=Phi_Delta, k_r=k_r, k_delta=k_delta, V=V, q0=q0, epsilon=epsilon, \n",
    "                         alpha=alpha, num=1000):\n",
    "    \n",
    "    # approx. solution based on second order and k_delta >> k_r * cPS\n",
    "    _K = Phi_Delta * q0 * np.log(10) * epsilon * k_r / V\n",
    "    # estimation of maximum time so that times will contain alpha of profile decay\n",
    "    t_max = k_delta * alpha / (_K * (1 - alpha) * PS_0) * (epsilon * PS_0 if epsilon * PS_0 > 1 else 1) * 1\n",
    "    \n",
    "    times = np.linspace(0, t_max, num)\n",
    "    \n",
    "    def _solve(c, t):\n",
    "        return - k_r * c * Phi_Delta * q0 * (1 - 10** (-epsilon * c)) / (V * (k_delta + k_r * c))\n",
    "    \n",
    "    c_PS = odeint(_solve, PS_0, times).squeeze()\n",
    "    \n",
    "    c_target = (1-alpha) * PS_0\n",
    "    \n",
    "    sort_idxs = np.argsort(c_PS)\n",
    "    _c_PS = c_PS[sort_idxs]\n",
    "    _times = times[sort_idxs]\n",
    "    \n",
    "    t_idx = find_nearest_idx(_c_PS, c_target)\n",
    "    \n",
    "    assert t_idx < _times.shape[0] - 1\n",
    "#     print(c_target, t_idx, _times[t_idx])\n",
    "    \n",
    "#     times[t_idx]\n",
    "    c_1_O2 = calc_eq_conc(c_PS, Phi_Delta=Phi_Delta, k_r=k_r, k_delta=k_delta, V=V, q0=q0, epsilon=epsilon)\n",
    "    return [times, c_PS, c_1_O2]\n"
   ]
  },
  {
   "cell_type": "code",
   "execution_count": 415,
   "metadata": {},
   "outputs": [
    {
     "data": {
      "image/png": "[encoded data removed]",
      "text/plain": [
       "<Figure size 504x360 with 1 Axes>"
      ]
     },
     "metadata": {
      "needs_background": "light"
     },
     "output_type": "display_data"
    }
   ],
   "source": [
    "import matplotlib.pyplot as plt\n",
    "plt.rcParams.update({'font.size': 13})\n",
    "plt.rcParams['figure.figsize'] = [7, 5]\n",
    "\n",
    "t, c_PS, c_1_O2 = _solve_time_profiles(PS_0=PS_0, Phi_Delta=Phi_Delta, k_r=k_r,\n",
    "                                       k_delta=k_delta, V=V, q0=q0, epsilon=epsilon, alpha=alpha)\n",
    "\n",
    "\n",
    "plt.plot(t, c_PS*epsilon)\n",
    "# plt.plot(t, c_1_O2)\n",
    "plt.xlabel('Time / s')\n",
    "plt.ylabel('Concentration / M')\n",
    "plt.show()"
   ]
  },
  {
   "cell_type": "code",
   "execution_count": 338,
   "metadata": {
    "scrolled": false
   },
   "outputs": [],
   "source": [
    "def sweep(PS_0=PS_0, Phi_Delta=Phi_Delta, k_r=k_r, k_delta=k_delta, V=V, q0=q0, epsilon=epsilon, alpha=alpha):\n",
    "    pass"
   ]
  },
  {
   "cell_type": "code",
   "execution_count": 442,
   "metadata": {
    "scrolled": false
   },
   "outputs": [
    {
     "data": {
      "image/png": "[encoded data removed]",
      "text/plain": [
       "<Figure size 504x360 with 1 Axes>"
      ]
     },
     "metadata": {
      "needs_background": "light"
     },
     "output_type": "display_data"
    },
    {
     "data": {
      "text/plain": [
       "array([6.8493142e-10, 6.8493142e-10, 6.8493142e-10, 6.8493142e-10,\n",
       "       6.8493142e-10])"
      ]
     },
     "execution_count": 442,
     "metadata": {},
     "output_type": "execute_result"
    }
   ],
   "source": [
    "alpha = 0.998 # the percentual decrese of initial concentration of PS\n",
    "num = 10000  # number of points\n",
    "\n",
    "prop_cycle = plt.rcParams['axes.prop_cycle']\n",
    "colors = prop_cycle.by_key()['color']\n",
    "\n",
    "PS_0 = 1e-5\n",
    "Phi_Delta=0.2\n",
    "k_r=1e10\n",
    "k_delta=1/9.4e-6\n",
    "# k_delta=1\n",
    "\n",
    "V=3e-3\n",
    "# q0=1e-8\n",
    "epsilon=2e5\n",
    "\n",
    "q0s = np.logspace(-9, -5, 5)\n",
    "n = q0s.shape[0]\n",
    "\n",
    "times = np.zeros((n, num))\n",
    "c_PSs = np.zeros_like(times)\n",
    "c_1_O2s = np.zeros_like(times)\n",
    "integrals = np.zeros(n)\n",
    "\n",
    "for i in range(n):\n",
    "    times[i], c_PSs[i], c_1_O2s[i] = _solve_time_profiles(PS_0=PS_0, Phi_Delta=Phi_Delta, k_r=k_r,\n",
    "                                       k_delta=k_delta, V=V, q0=q0s[i], epsilon=epsilon, alpha=alpha, num=num)\n",
    "    \n",
    "    integrals[i] = np.trapz(c_1_O2s[i], x=times[i])\n",
    "\n",
    "    label = f'q0={q0s[i]:.2g}'\n",
    "    plt.semilogx(times[i], c_PSs[i], label=label, color=colors[i])\n",
    "    plt.semilogx(times[i], c_1_O2s[i],  color=colors[i], ls='--')\n",
    "    plt.yscale('log')\n",
    "    \n",
    "plt.xlabel('Time / s')\n",
    "plt.ylabel('Concentration / M')\n",
    "plt.legend(fontsize=10)\n",
    "plt.show()\n",
    "\n",
    "\n",
    "integrals\n"
   ]
  },
  {
   "cell_type": "code",
   "execution_count": null,
   "metadata": {},
   "outputs": [],
   "source": []
  }
 ],
 "metadata": {
  "kernelspec": {
   "display_name": "Python 3",
   "language": "python",
   "name": "python3"
  },
  "language_info": {
   "codemirror_mode": {
    "name": "ipython",
    "version": 3
   },
   "file_extension": ".py",
   "mimetype": "text/x-python",
   "name": "python",
   "nbconvert_exporter": "python",
   "pygments_lexer": "ipython3",
   "version": "3.7.3"
  }
 },
 "nbformat": 4,
 "nbformat_minor": 4
}
