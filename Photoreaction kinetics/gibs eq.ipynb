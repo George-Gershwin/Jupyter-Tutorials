{
 "cells": [
  {
   "cell_type": "code",
   "execution_count": 665,
   "metadata": {},
   "outputs": [],
   "source": [
    "import numpy as np  # import numpy package (abbreviation stands for Numerical Python)\n",
    "import matplotlib.pyplot as plt  # we plot graphs with this library\n",
    "from scipy.integrate import odeint\n",
    "from scipy.linalg import eig, inv\n",
    "from numba import jit, njit, prange\n",
    "\n",
    "from matplotlib import cm\n",
    "import matplotlib as mpl\n",
    "# from numpy.linalg import *\n",
    "%matplotlib inline"
   ]
  },
  {
   "cell_type": "code",
   "execution_count": 552,
   "metadata": {},
   "outputs": [],
   "source": [
    "R = 8.314\n",
    "\n",
    "def populations(T, dH, dS):\n",
    "    K = np.exp(-dH/(R * T) + dS / R)\n",
    "    return 1/(1 + K), K/(1+K)"
   ]
  },
  {
   "cell_type": "code",
   "execution_count": 553,
   "metadata": {},
   "outputs": [
    {
     "data": {
      "image/png": "[encoded data removed]",
      "text/plain": [
       "<Figure size 288x216 with 1 Axes>"
      ]
     },
     "metadata": {
      "needs_background": "light"
     },
     "output_type": "display_data"
    }
   ],
   "source": [
    "T = np.linspace(200, 400, 300)\n",
    "\n",
    "pop = populations(T, 5.98209e3, 0)\n",
    "\n",
    "plt.rcParams['figure.figsize'] = [4, 3]\n",
    "\n",
    "plt.plot(T  - 273, pop[0], label='s-trans')\n",
    "plt.plot(T - 273, pop[1], label='s-cis')\n",
    "\n",
    "plt.xlabel(\"Temperature (°C)\")\n",
    "plt.ylabel(\"Population\")\n",
    "\n",
    "plt.legend()\n",
    "\n",
    "plt.savefig(\"equlibirium.svg\")\n",
    "\n",
    "\n"
   ]
  },
  {
   "cell_type": "code",
   "execution_count": 555,
   "metadata": {},
   "outputs": [],
   "source": [
    "# populations(25 + 273.15, 5.98209e3)"
   ]
  },
  {
   "cell_type": "code",
   "execution_count": 683,
   "metadata": {},
   "outputs": [
    {
     "name": "stdout",
     "output_type": "stream",
     "text": [
      "405 µs ± 39.7 µs per loop (mean ± std. dev. of 7 runs, 1 loop each)\n"
     ]
    },
    {
     "data": {
      "image/png": "[encoded data removed]",
      "text/plain": [
       "<Figure size 432x288 with 1 Axes>"
      ]
     },
     "metadata": {
      "needs_background": "light"
     },
     "output_type": "display_data"
    }
   ],
   "source": [
    "k1, k2, k3, k4  = 1, 0.5, 0.3, 0\n",
    "\n",
    "# K = np.asarray([[-k1, 0 ], \n",
    "#                 [k1, -k2]])\n",
    "\n",
    "K = np.asarray([[-k1, 0 , 0], \n",
    "                [k1, -k2, 0], \n",
    "                [0, k2, -k3]])\n",
    "\n",
    "K = np.asarray([[-k1, 0 , 0, 0], \n",
    "                [k1, -k2, 0, 0], \n",
    "                [0, k2, -k3, 0],\n",
    "                [0, 0, k3, -k4]])\n",
    "\n",
    "c0 = np.asarray([1.0, 0, 0, 0])\n",
    "\n",
    "def simul_an(times, c0, K):\n",
    "    L, Q = np.linalg.eig(K)\n",
    "    Q_inv = np.linalg.inv(Q)\n",
    "    \n",
    "    n = times.shape[0]\n",
    "    \n",
    "    traces = np.exp(times[:, None] * L)\n",
    "    \n",
    "    # n x n x n\n",
    "    outers = Q.T[..., None] * Q_inv[:, None, :]\n",
    "    res = traces[..., None, None] * outers[None, ...]\n",
    "    summed = res.sum(axis=1)\n",
    "    \n",
    "    return summed.dot(c0)\n",
    "\n",
    "\n",
    "@njit(fastmath=True)\n",
    "def simul_an_numba(times, c0, K):\n",
    "    L, Q = np.linalg.eig(K)\n",
    "    Q_inv = np.linalg.inv(Q)\n",
    "    \n",
    "    n = times.shape[0]\n",
    "    Kn = K.shape[0]\n",
    "    \n",
    "    traces = np.exp(times.reshape((n, 1)) * L)\n",
    "#     outers = Q.T.reshape((Kn, Kn, 1)) * Q_inv.reshape((Kn, 1, Kn))\n",
    "#     temp = np.zeros_like(outers)\n",
    "\n",
    "#     for i in prange(n):\n",
    "        \n",
    "#         for j in range(Kn):\n",
    "#             temp[j] = traces[i][j] * outers[j]\n",
    "            \n",
    "#         traces[i] = temp.sum(axis=0).dot(c0)\n",
    "        \n",
    "\n",
    "    for i in prange(n):\n",
    "        traces[i] = Q.dot(np.diag(traces[i])).dot(Q_inv).dot(c0)\n",
    "        \n",
    "    return traces\n",
    "\n",
    "def simul_ode(times, c0, K):\n",
    "    return odeint(lambda c, t: K.dot(c), c0, times)\n",
    "    \n",
    "\n",
    "times = np.linspace(0, 20, 300)\n",
    "\n",
    "@njit(fastmath=True, parallel=True)\n",
    "def a(tensor):\n",
    "    \n",
    "    eigs = np.zeros((tensor.shape[0], tensor.shape[1]))\n",
    "    vectors = np.zeros((tensor.shape[0], tensor.shape[1], tensor.shape[1]))\n",
    "    vectors_inv = np.zeros((tensor.shape[0], tensor.shape[1], tensor.shape[1]))\n",
    "    \n",
    "    for i in range(tensor.shape[0]):\n",
    "#         w, vr = eig(K, left=False, right=True, check_finite=False)\n",
    "        w, wr = np.linalg.eig(tensor[i])\n",
    "        eigs[i] = w\n",
    "        vectors[i] = wr\n",
    "        vectors_inv[i] = np.linalg.inv(wr)\n",
    "    return eigs, vectors, vectors_inv\n",
    "\n",
    "#         vr_inv = np.linalg.inv(vr)\n",
    "\n",
    "tensor = np.tile(K, (400, 1, 1))\n",
    "\n",
    "\n",
    "\n",
    "\n",
    "# tensor = np.random.random((400, 3, 3))\n",
    "\n",
    "\n",
    "# %timeit vals, vects, vectors_inv = a(tensor)\n",
    "\n",
    "\n",
    "# w, vr = eig(K, left=False, right=True, check_finite=False)\n",
    "# L, Q = np.linalg.eig(K)\n",
    "\n",
    "# vr_inv = np.linalg.inv(vr)\n",
    "\n",
    "\n",
    "\n",
    "# vl\n",
    "\n",
    "# np.isclose(K, vr @ np.real(np.diag(w)) @ vr_inv)\n",
    "# vr @ np.real(np.diag(w)) @ vr_inv\n",
    "\n",
    "\n",
    "\n",
    "# vl @ np.real(np.diag(w)) @ vr.T\n",
    "\n",
    "# Q_inv = np.linalg.inv(Q)\n",
    "\n",
    "# Q[:, 0, None] * Q_inv[None, 0]\n",
    "# Q[:, 1, None] * Q_inv[None, 1]\n",
    "# Q[:, 2, None] * Q_inv[None, 2]\n",
    "\n",
    "# outers = Q.T[:, :, None] * Q_inv[:, None, :]\n",
    "# # Q.T[:, :, None] * Q_inv[None, ...]\n",
    "# # outers * np.exp(L)\n",
    "\n",
    "# traces = np.exp(times[:, None] * L)\n",
    "# res = traces[..., None, None] * outers[None, ...]\n",
    "# res.shape\n",
    "\n",
    "# summed = res.sum(axis=1)\n",
    "# # summed.shape\n",
    "# # print(summed.dot(c0))\n",
    "# summed[99].dot(c0)\n",
    "\n",
    "# traces = np.exp(times[:, None] * c0)\n",
    "\n",
    "# res = traces[:, None, :, None] * outers[None, ...]\n",
    "\n",
    "# summed = res.sum(axis=1)\n",
    "# summed.dot(c0[:, None])\n",
    "\n",
    "tr_ode = simul_ode(times, c0, K)\n",
    "%timeit tr_an = simul_an_numba(times, c0, K)\n",
    "\n",
    "plt.plot(times, tr_an)\n",
    "plt.show()"
   ]
  },
  {
   "cell_type": "code",
   "execution_count": 635,
   "metadata": {},
   "outputs": [
    {
     "data": {
      "text/plain": [
       "array([[13, 18],\n",
       "       [27, 38]])"
      ]
     },
     "execution_count": 635,
     "metadata": {},
     "output_type": "execute_result"
    }
   ],
   "source": [
    "A = np.asarray([[1, 2], \n",
    "                [3, 4]])\n",
    "\n",
    "B = np.asarray([1, 2])\n",
    "\n",
    "\n",
    "C = np.asarray([[1, 2], \n",
    "                [3, 4]])\n",
    "\n",
    "\n",
    "\n",
    "\n",
    "B[0] * A[:, 0, None] * C[None, 0] + B[1] * A[:, 1, None] * C[None, 1]\n",
    "\n",
    "\n"
   ]
  },
  {
   "cell_type": "code",
   "execution_count": 111,
   "metadata": {},
   "outputs": [
    {
     "data": {
      "text/plain": [
       "array([[ 7, 10],\n",
       "       [15, 22]])"
      ]
     },
     "execution_count": 111,
     "metadata": {},
     "output_type": "execute_result"
    }
   ],
   "source": [
    "A @ C"
   ]
  },
  {
   "cell_type": "code",
   "execution_count": 103,
   "metadata": {},
   "outputs": [
    {
     "data": {
      "text/plain": [
       "array([[13, 18],\n",
       "       [27, 38]])"
      ]
     },
     "execution_count": 103,
     "metadata": {},
     "output_type": "execute_result"
    }
   ],
   "source": [
    "A @ B @ C"
   ]
  },
  {
   "cell_type": "code",
   "execution_count": 106,
   "metadata": {},
   "outputs": [
    {
     "data": {
      "text/plain": [
       "array([[1, 2],\n",
       "       [3, 4]])"
      ]
     },
     "execution_count": 106,
     "metadata": {},
     "output_type": "execute_result"
    }
   ],
   "source": [
    "A"
   ]
  },
  {
   "cell_type": "code",
   "execution_count": 107,
   "metadata": {},
   "outputs": [
    {
     "data": {
      "text/plain": [
       "array([[1, 0],\n",
       "       [0, 2]])"
      ]
     },
     "execution_count": 107,
     "metadata": {},
     "output_type": "execute_result"
    }
   ],
   "source": [
    "B"
   ]
  },
  {
   "cell_type": "code",
   "execution_count": 108,
   "metadata": {},
   "outputs": [
    {
     "data": {
      "text/plain": [
       "array([[1, 2],\n",
       "       [3, 4]])"
      ]
     },
     "execution_count": 108,
     "metadata": {},
     "output_type": "execute_result"
    }
   ],
   "source": [
    "C"
   ]
  },
  {
   "cell_type": "code",
   "execution_count": null,
   "metadata": {},
   "outputs": [],
   "source": []
  }
 ],
 "metadata": {
  "kernelspec": {
   "display_name": "Python 3",
   "language": "python",
   "name": "python3"
  },
  "language_info": {
   "codemirror_mode": {
    "name": "ipython",
    "version": 3
   },
   "file_extension": ".py",
   "mimetype": "text/x-python",
   "name": "python",
   "nbconvert_exporter": "python",
   "pygments_lexer": "ipython3",
   "version": "3.7.3"
  }
 },
 "nbformat": 4,
 "nbformat_minor": 4
}
