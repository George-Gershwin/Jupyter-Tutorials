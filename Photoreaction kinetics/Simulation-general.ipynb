{
 "cells": [
  {
   "cell_type": "markdown",
   "metadata": {},
   "source": [
    "# Simulation of photochemical reaction kinetics under contiuous irradiation of arbitraty irradiation source\n",
    "\n",
    "\n",
    "$$\\frac{\\mathrm d \\mathbf c}{\\mathrm dt}=\\frac{1}{V}\\int\\boldsymbol\\Phi(\\lambda)\\mathbf q(t, \\lambda)\\mathrm d\\lambda$$\n",
    "\n",
    "\n",
    "\n",
    "$$\\frac{\\mathrm d \\mathbf c}{\\mathrm dt}=\\frac{q_{mol}^0}{V}\\boldsymbol\\Phi\\int \\frac{ \\mathbf{c}\\circ \\boldsymbol{\\varepsilon}}{\\mathbf c\\cdot \\boldsymbol{\\varepsilon}}\\left(1-10^{-l\\mathbf c\\cdot \\boldsymbol{\\varepsilon}}\\right)I_S(\\lambda)\\mathrm d\\lambda$$\n",
    "\n",
    "or in purely matrix operations\n",
    "\n",
    "$$\\frac{\\mathrm d \\mathbf c}{\\mathrm dt}=\\frac{q_{mol}^0}{V}\\boldsymbol\\Phi\\ \\mathrm{diag}\\left[ \\int \\frac{\\boldsymbol{\\varepsilon}}{\\mathbf c\\cdot \\boldsymbol{\\varepsilon}}\\left(1-10^{-l\\mathbf c\\cdot \\boldsymbol{\\varepsilon}}\\right)I_S(\\lambda)\\mathrm d\\lambda\\right]  \\mathbf{c}$$\n",
    "\n",
    "Where $\\mathbf c=\n",
    "\\begin{bmatrix}\n",
    "     c_1(t) \\\\\n",
    "     c_2(t) \\\\\n",
    "     \\vdots  \\\\\n",
    "     c_n(t) \n",
    "\\end{bmatrix}\n",
    "$ is a concentration vector of total $n$ components and $\\boldsymbol\\varepsilon=\n",
    "\\begin{bmatrix}\n",
    "     \\varepsilon_1(\\lambda) \\\\\n",
    "     \\varepsilon_2(\\lambda) \\\\\n",
    "     \\vdots  \\\\\n",
    "     \\varepsilon_n(\\lambda) \n",
    "\\end{bmatrix}\n",
    "$ is molar abs. coefficient vector that contains molar abs. coefficients of all $n$ components. $\\mathbf K=\n",
    "\\begin{bmatrix}\n",
    "     -\\Phi_{1\\rightarrow} & \\Phi_{2\\rightarrow1}  & \\dots  & \\Phi_{n\\rightarrow 1} \\\\\n",
    "     \\Phi_{1\\rightarrow2} & -\\Phi_{2\\rightarrow} & \\dots  & \\Phi_{n\\rightarrow 2} \\\\\n",
    "     \\vdots  & \\vdots & \\ddots & \\vdots \\\\\n",
    "     \\Phi_{1\\rightarrow n} & \\Phi_{2\\rightarrow n}  & \\dots  & -\\Phi_{n\\rightarrow} \n",
    "\\end{bmatrix}\n",
    "$ is transfer matrix. The main diagonal contains total decaying quantum yields of each compoent. Off-diagonal elements represents transition quantum yields between compartments. Finally, the $I_S(\\lambda)$ is spectrum of irradiation source which is normallized $\\int_{-\\infty}^{+\\infty}I_S(\\lambda)\\mathrm d\\lambda=1$. In principle, Kasha rule is not followed in many photochemical reactions (eg. photoisomerizations) and therefore quantum yield depends on wavelength. In this case, the transfer matrix $\\mathbf K$ is function of wavelength and should be put inside the integral. However, transfer matrix can be left outside of the integral at the cost of averaging of quantum yields for particular irradiation source. \n",
    "\n",
    "The simple example is cis-trans isomerization of alkene if both isomers are thermally stable. The equation for E and Z isomers would be as follow:\n",
    "\n",
    "$$\\frac{\\mathrm d }{\\mathrm dt}\n",
    "\\begin{bmatrix}\n",
    "     c_{\\mathrm E}(t) \\\\\n",
    "     c_{\\mathrm Z}(t) \n",
    "\\end{bmatrix}\n",
    "=\\frac{q_{mol}^0}{V}\n",
    "\\begin{bmatrix}\n",
    "     -\\Phi_{\\mathrm E\\rightarrow\\mathrm Z} & \\Phi_{\\mathrm Z\\rightarrow\\mathrm E} \\\\\n",
    "     \\Phi_{\\mathrm E\\rightarrow\\mathrm Z} & -\\Phi_{\\mathrm Z\\rightarrow\\mathrm E}\n",
    "\\end{bmatrix}\n",
    "\\int \\begin{bmatrix}\n",
    "     c_{\\mathrm E}(t)\\varepsilon_{\\mathrm E}(\\lambda) \\\\\n",
    "     c_{\\mathrm Z}(t)\\varepsilon_{\\mathrm Z}(\\lambda) \n",
    "\\end{bmatrix}\n",
    "\\frac{1-10^{-l(c_{\\mathrm E}(t)\\varepsilon_{\\mathrm E}(\\lambda) + c_{\\mathrm Z}(t)\\varepsilon_{\\mathrm Z}(\\lambda))}}{c_{\\mathrm E}(t)\\varepsilon_{\\mathrm E}(\\lambda) + c_{\\mathrm Z}(t)\\varepsilon_{\\mathrm Z}(\\lambda)}I_S(\\lambda)\\mathrm d\\lambda$$\n",
    "\n",
    "which splits into set of two coupled ordinary differential equations with no analytical solution (if we irradiate at single wavelength $\\lambda_{irr}$). The second equation is not necessary in this case, because of conservation of mass. The sum of concentrations of E and Z is constant and equal to total starting concentration. Also, this is clear from transfer matrix, because it has not full rank! In cases when $\\mathbf K$ has full rank, all equations must be solved.\n",
    "\n",
    "\n",
    "$$\\begin{align*}\n",
    "\\frac{\\mathrm d c_{\\mathrm E}(t)}{\\mathrm dt} &= \\frac{q_{mol}^0}{V}\\frac{1-10^{-l(c_{\\mathrm E}(t)\\varepsilon_{\\mathrm E}(\\lambda_{irr}) + c_{\\mathrm Z}(t)\\varepsilon_{\\mathrm Z}(\\lambda_{irr}))}}{c_{\\mathrm E}(t)\\varepsilon_{\\mathrm E}(\\lambda_{irr}) + c_{\\mathrm Z}(t)\\varepsilon_{\\mathrm Z}(\\lambda_{irr})}\\Big( \\Phi_{\\mathrm Z\\rightarrow\\mathrm E} c_{\\mathrm Z}(t)\\varepsilon_{\\mathrm Z}(\\lambda_{irr}) - \\Phi_{\\mathrm E\\rightarrow\\mathrm Z} c_{\\mathrm E}(t)\\varepsilon_{\\mathrm E}(\\lambda_{irr})  \\Big)\\\\\n",
    "c_0 &= c_{\\mathrm E}(t) + c_{\\mathrm Z}(t)\n",
    "\\end{align*}$$\n",
    "\n"
   ]
  },
  {
   "cell_type": "markdown",
   "metadata": {},
   "source": [
    "## Equilibrium of general photoreaction - reaching of the Photostationary state (PSS)\n",
    "\n",
    "When irradiating at single wavelength, \n",
    "\n",
    "$$\\frac{\\mathrm d \\mathbf c}{\\mathrm dt}=\\frac{1}{V}\\boldsymbol\\Phi\\mathbf q(\\mathbf c, \\boldsymbol\\varepsilon)$$\n",
    "\n",
    "where $\\mathbf q(\\mathbf c, \\boldsymbol\\varepsilon)$ is the amount of light absorbed by each compratment. For the perpendicular irradiaiton setup, this can be calculated when irradiating at single wavelength $\\lambda_{irr}$ or narrow band irradiation source as:\n",
    "\n",
    "$$\\mathbf q(\\mathbf c, \\boldsymbol\\varepsilon) = \\frac{\\mathbf{c}\\circ \\boldsymbol{\\varepsilon}(\\lambda_{irr})}{\\mathbf c\\cdot \\boldsymbol{\\varepsilon}(\\lambda_{irr})}\\left(1-10^{-l\\mathbf c\\cdot \\boldsymbol{\\varepsilon}(\\lambda_{irr})}\\right)$$\n",
    "\n",
    "or written with only matrix multiplications\n",
    "\n",
    "$$\\mathbf q(\\mathbf c, \\boldsymbol\\varepsilon) = \\frac{1-10^{-l\\mathbf c\\cdot \\boldsymbol{\\varepsilon}(\\lambda_{irr})}}{\\mathbf c\\cdot \\boldsymbol{\\varepsilon}(\\lambda_{irr})} \\mathrm{diag}\\left(\\boldsymbol{\\varepsilon}(\\lambda_{irr})\\right)\\mathbf c$$\n",
    "\n",
    "The term in the left is in the literature denoted as photoinetic factor $F_k(t)$ and depends only on the total absorbance of the solution at $\\lambda_{irr}$\n",
    "\n",
    "$$\\mathbf q(\\mathbf c, \\boldsymbol\\varepsilon) = F_k(t)\\ \\mathrm{diag}\\left(\\boldsymbol{\\varepsilon}(\\lambda_{irr})\\right)\\mathbf c$$\n",
    "\n",
    "For general $n$ component reaction rewritten with vector and matrices:\n",
    "\n",
    "$$q(\\mathbf c, \\boldsymbol\\varepsilon) = F_k(t) \\begin{bmatrix}\n",
    "     \\varepsilon_1(\\lambda_{irr}) & 0  & \\dots  & 0 \\\\\n",
    "     0 & \\varepsilon_2(\\lambda_{irr}) & \\dots  & 0\\\\\n",
    "     \\vdots  & \\vdots & \\ddots & \\vdots \\\\\n",
    "     0 & 0  & \\dots  & \\varepsilon_n(\\lambda_{irr}) \n",
    "\\end{bmatrix}\n",
    "\\begin{bmatrix}\n",
    "     c_1(t) \\\\\n",
    "     c_2(t) \\\\\n",
    "     \\vdots  \\\\\n",
    "     c_n(t) \n",
    "\\end{bmatrix}$$\n",
    "\n",
    "Now, the equilibrium of a reaction is established when the concentration of all compartments does not change with time, so that $$\\frac{\\mathrm d \\mathbf c}{\\mathrm dt}=0$$\n",
    "\n",
    "Therefore with combining above equations, this condition must hold\n",
    "\n",
    "$$\\frac{\\mathrm d \\mathbf c}{\\mathrm dt}=\\frac{F_k(t)}{V}\\boldsymbol\\Phi\\ \\mathrm{diag}\\left(\\boldsymbol{\\varepsilon}(\\lambda_{irr})\\right)\\mathbf c =  0$$\n",
    "\n",
    "The relative population of all compartments in the equilibrium can be found by solving this matrix equation, which is nothing else than a **null-space** (or kernel) of a matrix.\n",
    "\n",
    "$$\\mathbf c_{PSS}  = \\mathrm{Null}\\left[   \\boldsymbol\\Phi\\ \\mathrm{diag}\\left(\\boldsymbol{\\varepsilon}(\\lambda_{irr})\\right)\\right]$$\n"
   ]
  },
  {
   "cell_type": "code",
   "execution_count": 1,
   "metadata": {},
   "outputs": [],
   "source": [
    "import numpy as np  # import numpy package (abbreviation stands for Numerical Python)\n",
    "import matplotlib.pyplot as plt  # we plot graphs with this library\n",
    "from numba import njit, jit\n"
   ]
  },
  {
   "cell_type": "markdown",
   "metadata": {},
   "source": [
    "## Spectra"
   ]
  },
  {
   "cell_type": "code",
   "execution_count": 2,
   "metadata": {},
   "outputs": [
    {
     "data": {
      "image/png": "[encoded data removed]",
      "text/plain": [
       "<Figure size 576x360 with 1 Axes>"
      ]
     },
     "metadata": {
      "needs_background": "light"
     },
     "output_type": "display_data"
    }
   ],
   "source": [
    "# load experimental epsilons\n",
    "fname = 'fit-A.csv'\n",
    "fname2 = 'epsilons251-559-new.txt'\n",
    "eps = np.loadtxt(fname, delimiter=',', dtype=np.float64, skiprows=1)\n",
    "\n",
    "wavelengths = eps[:, 0] + 230\n",
    "ST = eps[:, 1:].T  # ST is a matrix of n x w\n",
    "\n",
    "ST = ST[:-1]\n",
    "\n",
    "\n",
    "n = ST.shape[0]  # number of absorbing species\n",
    "\n",
    "\n",
    "names = ['Z', 'E', 'HL', 'Unknown']\n",
    "\n",
    "# plot created spectra\n",
    "plt.rcParams['figure.figsize'] = [8, 5]\n",
    "for i in range(n):\n",
    "    plt.plot(wavelengths, ST[i], label=names[i])\n",
    "plt.xlabel('Wavelength')\n",
    "plt.ylabel('Epsilon $\\epsilon$')\n",
    "plt.legend()\n",
    "plt.show()\n",
    "\n"
   ]
  },
  {
   "cell_type": "markdown",
   "metadata": {},
   "source": [
    "## Irradiation source"
   ]
  },
  {
   "cell_type": "code",
   "execution_count": 3,
   "metadata": {},
   "outputs": [
    {
     "data": {
      "image/png": "[encoded data removed]",
      "text/plain": [
       "<Figure size 576x360 with 1 Axes>"
      ]
     },
     "metadata": {
      "needs_background": "light"
     },
     "output_type": "display_data"
    }
   ],
   "source": [
    "def gauss(x, mu, sigma):\n",
    "    return np.exp(- (x - mu) * (x - mu) / (2 * sigma * sigma))\n",
    "\n",
    "def I_source_sweep(t, wavelengths, t_max=210, range_max=(500, 400), sigma=10):\n",
    "    # max = f(t)\n",
    "    m = range_max[0] + (range_max[1] - range_max[0]) * t/t_max\n",
    "    i_s = gauss(wavelengths, m, sigma)\n",
    "    \n",
    "    return i_s / np.trapz(i_s)\n",
    "\n",
    "plt.rcParams['figure.figsize'] = [8, 5]\n",
    "I_source = I_source_sweep(210, wavelengths)\n",
    "# I_source /= np.trapz(I_source)\n",
    "plt.plot(wavelengths, I_source, label='irrsource')\n",
    "plt.show()"
   ]
  },
  {
   "cell_type": "markdown",
   "metadata": {},
   "source": [
    "## Model and Quantum yields\n",
    "\n",
    "\n",
    "Quantum yield depends on wavelength in general and will be described as a low $n$-th order polynomial\n",
    "\n",
    "$$\\Phi_{k}(\\lambda) = \\phi_{k0} + \\sum_{i=1}^{n}\\phi_{ki}\\left(\\frac{\\lambda_C - \\lambda}{100}\\right)^i$$\n",
    "\n",
    "the parameter $\\phi_{k0}$ denotes the quantum yield at wavelenght $\\lambda_C$"
   ]
  },
  {
   "cell_type": "code",
   "execution_count": 4,
   "metadata": {},
   "outputs": [
    {
     "data": {
      "text/plain": [
       "array([6])"
      ]
     },
     "execution_count": 4,
     "metadata": {},
     "output_type": "execute_result"
    }
   ],
   "source": [
    "def Phi(phis, lambda_C=400, wavelengths=wavelengths):\n",
    "    assert isinstance(phis, (list, np.ndarray))\n",
    "    return sum(par * ((lambda_C - wavelengths) / 100) ** i for i, par in enumerate(phis))\n",
    "\n",
    "\n",
    "# Phi_ZE = Phi([0.0055, 0.02, 0.005], 400, wavelengths)\n",
    "# Phi_EZ = Phi([0.05, -0.02, 0.001], 400, wavelengths)\n",
    "\n",
    "# plt.rcParams['figure.figsize'] = [6, 4]\n",
    "# plt.plot(wavelengths, np.asarray([Phi_ZE, Phi_EZ]).T)\n",
    "\n",
    "\n",
    "# K = np.asarray([[-Phi_ZE, Phi_EZ],\n",
    "#                 [Phi_ZE, -Phi_EZ ]])\n",
    "\n",
    "# c = np.asarray([1, 5] * wavelengths.shape[0]).reshape((2, 1, wavelengths.shape[0]))\n",
    "\n",
    "# # K.shape, c.shape\n",
    "\n",
    "# # A = np.tensordot(K, c, axes=((1), (0)))\n",
    "# # # _int = np.trapz(A, wavelengths, axis=1)\n",
    "# # # _int\n",
    "\n",
    "# # A.shape\n",
    "# # # np.random.randint(10, size=(2, 6, 5))\n",
    "\n",
    "# # # K = np.asarray([[-Phi_ZE, Phi_EZ, 0, 0],\n",
    "# #                 [Phi_ZE, -Phi_EZ -Phi_EHL, Phi_HLE, 0],\n",
    "# #                 [0, Phi_EHL, -Phi_HLD - Phi_HLE, 0],\n",
    "# #                 [0, 0, Phi_HLD, 0]])\n",
    "\n",
    "\n",
    "# B = np.asarray([[1, 2], [3, 0]])\n",
    "# x = np.asarray([2, 3]).reshape((2, 1))\n",
    "# # B.dot(x)\n",
    "\n",
    "# np.tensordot(B, x, axes=1)\n",
    "\n",
    "# # B.T.dot(x)\n",
    "\n",
    "# A = np.array([[1,1],\n",
    "#               [2,2],\n",
    "#               [3,3]])\n",
    "\n",
    "# B = np.array([[[1],[2]],[[3],[4]]])\n",
    "\n",
    "# A.dot(B[0, ...])\n",
    "\n",
    "# # w x n x n   x   w x n x 1\n",
    "\n",
    "# # A.shape, B.shape\n",
    "\n",
    "# np.matmul(A,B)\n",
    "\n",
    "a = np.asarray([1, 2, 3])\n",
    "a.sum(axis=0, keepdims=True)"
   ]
  },
  {
   "cell_type": "code",
   "execution_count": 36,
   "metadata": {},
   "outputs": [
    {
     "name": "stdout",
     "output_type": "stream",
     "text": [
      "         2511 function calls (2431 primitive calls) in 0.060 seconds\n",
      "\n",
      "   Ordered by: standard name\n",
      "\n",
      "   ncalls  tottime  percall  cumtime  percall filename:lineno(function)\n",
      "       81    0.000    0.000    0.004    0.000 <__array_function__ internals>:2(diff)\n",
      "       80    0.000    0.000    0.003    0.000 <__array_function__ internals>:2(trapz)\n",
      "       79    0.000    0.000    0.000    0.000 <__array_function__ internals>:2(where)\n",
      "       79    0.002    0.000    0.002    0.000 <ipython-input-36-6bc2b06e462c>:16(fk_factor)\n",
      "        1    0.002    0.002    0.058    0.058 <ipython-input-36-6bc2b06e462c>:46(simulate)\n",
      "       79    0.003    0.000    0.010    0.000 <ipython-input-36-6bc2b06e462c>:80(dc_dt)\n",
      "        1    0.002    0.002    0.060    0.060 <string>:1(<module>)\n",
      "        1    0.000    0.000    0.000    0.000 _asarray.py:16(asarray)\n",
      "      241    0.000    0.000    0.000    0.000 _asarray.py:88(asanyarray)\n",
      "      159    0.000    0.000    0.002    0.000 _methods.py:36(_sum)\n",
      "        1    0.000    0.000    0.000    0.000 _methods.py:47(_all)\n",
      "        2    0.000    0.000    0.004    0.002 copy.py:66(copy)\n",
      "       81    0.000    0.000    0.000    0.000 function_base.py:1143(_diff_dispatcher)\n",
      "       81    0.003    0.000    0.003    0.000 function_base.py:1147(diff)\n",
      "       80    0.000    0.000    0.000    0.000 function_base.py:3983(_trapz_dispatcher)\n",
      "       80    0.001    0.000    0.003    0.000 function_base.py:3987(trapz)\n",
      "        4    0.000    0.000    0.000    0.000 iostream.py:197(schedule)\n",
      "        4    0.000    0.000    0.000    0.000 iostream.py:309(_is_master_process)\n",
      "        4    0.000    0.000    0.000    0.000 iostream.py:322(_schedule_flush)\n",
      "        4    0.000    0.000    0.000    0.000 iostream.py:384(write)\n",
      "        4    0.000    0.000    0.000    0.000 iostream.py:93(_event_pipe)\n",
      "        4    0.000    0.000    0.000    0.000 linecache.py:15(getline)\n",
      "        4    0.000    0.000    0.000    0.000 linecache.py:37(getlines)\n",
      "       79    0.000    0.000    0.000    0.000 multiarray.py:312(where)\n",
      "        1    0.001    0.001    0.056    0.056 odepack.py:28(odeint)\n",
      "        4    0.000    0.000    0.000    0.000 socket.py:342(send)\n",
      "        4    0.000    0.000    0.000    0.000 threading.py:1050(_wait_for_tstate_lock)\n",
      "        4    0.000    0.000    0.000    0.000 threading.py:1092(is_alive)\n",
      "        4    0.000    0.000    0.000    0.000 threading.py:507(is_set)\n",
      "        4    0.000    0.000    0.000    0.000 warnings.py:117(_formatwarnmsg)\n",
      "        4    0.000    0.000    0.000    0.000 warnings.py:20(_showwarnmsg_impl)\n",
      "        4    0.000    0.000    0.000    0.000 warnings.py:35(_formatwarnmsg_impl)\n",
      "        4    0.000    0.000    0.000    0.000 warnings.py:419(__init__)\n",
      "        4    0.000    0.000    0.000    0.000 warnings.py:96(_showwarnmsg)\n",
      "        1    0.000    0.000    0.060    0.060 {built-in method builtins.exec}\n",
      "        2    0.000    0.000    0.000    0.000 {built-in method builtins.getattr}\n",
      "        4    0.000    0.000    0.000    0.000 {built-in method builtins.isinstance}\n",
      "        2    0.000    0.000    0.000    0.000 {built-in method builtins.issubclass}\n",
      "       90    0.000    0.000    0.000    0.000 {built-in method builtins.len}\n",
      "        4    0.000    0.000    0.000    0.000 {built-in method nt.getpid}\n",
      "      242    0.000    0.000    0.000    0.000 {built-in method numpy.array}\n",
      "  240/160    0.000    0.000    0.006    0.000 {built-in method numpy.core._multiarray_umath.implement_array_function}\n",
      "       81    0.000    0.000    0.000    0.000 {built-in method numpy.core._multiarray_umath.normalize_axis_index}\n",
      "        1    0.000    0.000    0.000    0.000 {built-in method numpy.zeros}\n",
      "        1    0.039    0.039    0.049    0.049 {built-in method scipy.integrate._odepack.odeint}\n",
      "        2    0.004    0.002    0.004    0.002 {method '__copy__' of 'numpy.ndarray' objects}\n",
      "        4    0.000    0.000    0.000    0.000 {method 'acquire' of '_thread.lock' objects}\n",
      "        1    0.000    0.000    0.000    0.000 {method 'all' of 'numpy.ndarray' objects}\n",
      "        4    0.000    0.000    0.000    0.000 {method 'append' of 'collections.deque' objects}\n",
      "       81    0.000    0.000    0.000    0.000 {method 'append' of 'list' objects}\n",
      "        1    0.000    0.000    0.000    0.000 {method 'disable' of '_lsprof.Profiler' objects}\n",
      "        2    0.000    0.000    0.000    0.000 {method 'get' of 'dict' objects}\n",
      "      160    0.002    0.000    0.002    0.000 {method 'reduce' of 'numpy.ufunc' objects}\n",
      "       80    0.000    0.000    0.000    0.000 {method 'reshape' of 'numpy.ndarray' objects}\n",
      "       79    0.000    0.000    0.000    0.000 {method 'squeeze' of 'numpy.ndarray' objects}\n",
      "      159    0.000    0.000    0.002    0.000 {method 'sum' of 'numpy.ndarray' objects}\n",
      "\n",
      "\n"
     ]
    },
    {
     "name": "stderr",
     "output_type": "stream",
     "text": [
      "c:\\users\\dominik\\appdata\\local\\programs\\python\\python37\\lib\\site-packages\\ipykernel_launcher.py:2: RuntimeWarning: underflow encountered in exp\n",
      "  \n",
      "c:\\users\\dominik\\appdata\\local\\programs\\python\\python37\\lib\\site-packages\\ipykernel_launcher.py:76: RuntimeWarning: underflow encountered in true_divide\n",
      "c:\\users\\dominik\\appdata\\local\\programs\\python\\python37\\lib\\site-packages\\ipykernel_launcher.py:19: RuntimeWarning: invalid value encountered in true_divide\n",
      "c:\\users\\dominik\\appdata\\local\\programs\\python\\python37\\lib\\site-packages\\ipykernel_launcher.py:94: RuntimeWarning: underflow encountered in multiply\n",
      "c:\\users\\dominik\\appdata\\local\\programs\\python\\python37\\lib\\site-packages\\ipykernel_launcher.py:97: RuntimeWarning: underflow encountered in matmul\n"
     ]
    }
   ],
   "source": [
    "from scipy.integrate import odeint\n",
    "import math\n",
    "import cProfile\n",
    "np.seterr(all='warn')\n",
    "\n",
    "def find_nearest_idx(array, value):\n",
    "    idx = np.searchsorted(array, value, side=\"left\")\n",
    "    if idx > 0 and (idx == len(array) or math.fabs(value - array[idx - 1]) < math.fabs(value - array[idx])):\n",
    "        return idx - 1\n",
    "    else:\n",
    "        return idx\n",
    "def find_nearest(array, value):\n",
    "    idx = find_nearest_idx(array, value)\n",
    "    return array[idx]\n",
    "\n",
    "def fk_factor(x, c=np.log(10), tol=1e-2):\n",
    "    # exp(-xc) = 1 - xc + (xc)^2 / 2 - (xc)^3 / 6 ...\n",
    "    # (1 - exp(-xc)) / x  ~  c - xc^2 / 2 for low x\n",
    "    return np.where(x<=tol, c - x*c*c/2 + x*x*c*c*c/6, (1-np.exp(-x*c)) / x)\n",
    "\n",
    "# @njit(fastmath=True)\n",
    "def _calc_q_rel(eps, c, wls, l=1, I_source=None):\n",
    "    # c is t x n matrix, eps is n x w matrix\n",
    "\n",
    "#     assert I_source.shape[0] == wls.shape[0]\n",
    "\n",
    "    I_source /= np.trapz(I_source, x=wls)  # normalize irr source spectrum\n",
    "    ln10 = np.log(10)\n",
    "    # c_eps is   t x n x w   matrix\n",
    "    c_eps = c[..., None] * eps[None, ...]\n",
    "#     c_eps = c.reshape((c.shape[0], -1, 1)) * eps.reshape((1, -1, eps.shape[1]))\n",
    "\n",
    "    # sum in second dimension to produce   t x 1 x w   matrix\n",
    "    c_dot_eps = c_eps.sum(axis=1, keepdims=True)\n",
    "\n",
    "#     x_abs = c_eps * (1 - np.exp(-l * c_dot_eps * ln10)) / c_dot_eps\n",
    "    x_abs = c_eps * fk_factor(c_dot_eps, c=l * np.log(10))\n",
    "\n",
    "    # integrate along wavelengths (the third) dimension\n",
    "    q_rel = np.trapz(x_abs * I_source, x=wls, axis=2)\n",
    "\n",
    "    return q_rel.squeeze()\n",
    "\n",
    "\n",
    "\n",
    "def simulate(q0, V, c0, eps, K, times, wavelengths, l=1, I_source=None, w_irr=None):\n",
    "    \"\"\"\n",
    "    c0 is concentration vector at time, defined in times arary as first element (initial condition), eps is vector of molar abs. coefficients,\n",
    "    I_source is spectrum of irradiaiton source if this was used,\n",
    "    if not, w_irr as irradiaton wavelength must be specified, K is transfer matrix, l is length of a cuvette, default 1 cm\n",
    "    times are times for which to simulate the kinetics\n",
    "    \"\"\"\n",
    "    n = eps.shape[0]  # eps are epsilons - n x w matrix, where n is number of species and w is number of wavelengths\n",
    "#     assert n == K.shape[0] == K.shape[1]\n",
    "    c0 = np.asarray(c0)\n",
    "    \n",
    "    \n",
    "#     if I_source is None and w_irr is None:\n",
    "#         raise ValueError(\"Either specify I_source or irradiation wavelength w_irr!\")\n",
    "        \n",
    "#     K_rank = np.linalg.matrix_rank(K)\n",
    "#     print(f'rank: {K_rank}')\n",
    "#     assert K_rank >= n - 1  # rank of a transfer matrix cannot be less than n - 1\n",
    "#     if K_rank < n:  # transfer matrix has not a full rank -> do not simulate the last equation!\n",
    "#         c_tot = c0.sum()  # conservation of mass holds, calculate the total initial concentration\n",
    "#         assert c_tot != 0  # sum of all initial concentration of components cannot be zero\n",
    "#         K = K[:-1]  # remove the last row of K matrix\n",
    "        \n",
    "    integrate = w_irr is None\n",
    "    eps_w_irr = np.zeros(eps.shape[0])  # define epsilons only at irradiaton wavelength\n",
    "    if not integrate:\n",
    "        w_idx = find_nearest_idx(wavelengths, w_irr)\n",
    "        for i in range(n):\n",
    "            eps_w_irr[i] = eps[i][w_idx]\n",
    "    else:\n",
    "        I_source /= np.trapz(I_source, x=wavelengths)  # normalize irr source spectrum\n",
    "        \n",
    "    ln10 = np.log(10)\n",
    "    \n",
    "    def dc_dt(c, t):\n",
    "        # if K has full rank, simulate all equations, but if not, calculate the concentration of\n",
    "        # last component by conservation of mass, c_tot - c1 - c2 - ... - cn\n",
    "        _c = c #if K_rank == n else np.append(c, c_tot - c.sum()) \n",
    "        \n",
    "        c_eps = _c[..., None] * eps if integrate else (_c * eps_w_irr)[..., None]  # hadamard product\n",
    "        \n",
    "#         c_eps = eps * _c[..., None]\n",
    "#         c_eps = eps.T * _c if integrate else eps_w_irr * _c  # hadamard product\n",
    "        \n",
    "        c_dot_eps = c_eps.sum(axis=0)  # dot product, 1D array for integrated version, scalar number for one-wavelength version\n",
    "#         c_dot_eps = c_eps.sum(axis=1, keepdims=True) # total absorbance at each wavelength\n",
    "        \n",
    "#         x_abs = c_eps * (1 - np.exp(-l * c_dot_eps * ln10)) / c_dot_eps  # calculate part of absorbed light for each component\n",
    "        x_abs = c_eps * fk_factor(c_dot_eps, c=l * ln10) * (I_source if integrate else 1)\n",
    "    \n",
    "        # w x n x n   x   w x n x 1\n",
    "        product = np.matmul(K, x_abs.T[..., None])  # w x n x 1\n",
    "        \n",
    "        return q0 / V * (np.trapz(product, x=wavelengths, axis=0) if integrate else product).squeeze()\n",
    "            \n",
    "#             integrals = np.trapz(x_abs, x=wavelengths, axis=1) if integrate else x_abs  # integrate if source spectrum is defined\n",
    "# #         integrals = np.trapz(x_abs * I_source_sweep(t, wavelengths), x=wavelengths, axis=1) if integrate else x_abs  # integrate if source spectrum is defined\n",
    "                             \n",
    "#             return q0 * np.dot(K, integrals).squeeze() / V  # final matrix multiplication\n",
    "\n",
    "#     result = odeint(dc_dt, c0 if K_rank == n else c0[:-1], times)\n",
    "    result = odeint(dc_dt, c0 , times)\n",
    "\n",
    "    \n",
    "#     if K_rank < n:\n",
    "#         # calculate the time profile for last component and stack it to results\n",
    "#         result = np.hstack((result, c_tot - result.sum(axis=1, keepdims=True))) \n",
    "    return result\n",
    "\n",
    "\n",
    "# Phi_ZE = 0.35  # Z to E isomerizaton\n",
    "# Phi_EZ = 0.35  # E to Z isomerizaton\n",
    "# Phi_EHL = 0.01  # E to HL electrocyclization\n",
    "# Phi_HLE = 0.01   # HL to E electrocyclization\n",
    "# Phi_HLD = 0.001  # \n",
    "# Phi_ZD = 0.001  # \n",
    "# Phi_ED = 0.005  # \n",
    "# Phi_D = 0.0\n",
    "# Phi_HLBl = 0.01  # HL photobleaching\n",
    "\n",
    "c0 = 3e-5\n",
    "w_irr = 456\n",
    "\n",
    "times = np.linspace(0, 210, 1000000)  # linear space of times from 0 to 499 in arbitrary units\n",
    "t = times.shape[0]\n",
    "C = np.zeros((t, n))  # define concentration matrix with dimensions t x n.\n",
    "\n",
    "# K = np.asarray([[-Phi_ZE, Phi_EZ, 0, 0],\n",
    "#                 [Phi_ZE, -Phi_EZ -Phi_EHL, Phi_HLE, 0],\n",
    "#                 [0, Phi_EHL, -Phi_HLD - Phi_HLE, 0],\n",
    "#                 [0, 0, Phi_HLD, 0]])\n",
    "\n",
    "Phi_ZE = Phi([0.2138, 0.009124, -0.1228], 400, wavelengths)\n",
    "Phi_EZ = Phi([0.2404, 0.07409, 0.2693], 400, wavelengths)\n",
    "Phi_EHL = Phi([0.005556, 0.00281, 0.004567], 400, wavelengths)\n",
    "Phi_HLE = Phi([0.001, 0.0001, -0.0001], 400, wavelengths)\n",
    "\n",
    "# Phi_ZE = Phi([0.62], 400, wavelengths)\n",
    "# Phi_EZ = Phi([0.1], 400, wavelengths)\n",
    "# Phi_EHL = Phi([0.01], 400, wavelengths)\n",
    "# Phi_HLE = Phi([0.001], 400, wavelengths)\n",
    "\n",
    "# assert all((Phi_ZE >= 0) & (Phi_ZE <= 1)) == True\n",
    "# assert all((Phi_EZ >= 0) & (Phi_EZ <= 1)) == True\n",
    "# assert all((Phi_EHL >= 0) & (Phi_EHL <= 1)) == True\n",
    "# assert all((Phi_HLE >= 0) & (Phi_HLE <= 1)) == True\n",
    "\n",
    "# Phi_ZE = 0.5  # Z to E isomerizaton\n",
    "# Phi_EZ = 0.5  # E to Z isomerizaton\n",
    "# Phi_EHL = 0.01  # E to HL electrocyclization\n",
    "# Phi_HLE = 0.001   # HL to E electrocyclization\n",
    "\n",
    "# plt.rcParams['figure.figsize'] = [6, 4]\n",
    "# plt.plot(wavelengths, np.asarray([Phi_ZE, Phi_EZ, Phi_EHL]).T)\n",
    "\n",
    "\n",
    "_0 = np.zeros(wavelengths.shape) if isinstance(Phi_ZE, np.ndarray) else 0\n",
    "\n",
    "K = np.asarray([[-Phi_ZE, Phi_EZ, _0],\n",
    "                [Phi_ZE, -Phi_EZ - Phi_EHL, Phi_HLE],\n",
    "                [_0, Phi_EHL, - Phi_HLE]])\n",
    "\n",
    "K = np.transpose(K, (2, 0, 1))\n",
    "\n",
    "# find_nearest_idx(wavelengths, 400)\n",
    "\n",
    "# K[find_nearest_idx(wavelengths, 400)]\n",
    "\n",
    "# print(np.linalg.matrix_rank(K), q_rel.shape)\n",
    "\n",
    "I_source = gauss(wavelengths, 400, 5)\n",
    "\n",
    "# %timeit C = simulate(5e-5, 4, [c0, 0, 0], ST, K, times, wavelengths, l=1, I_source=I_source, w_irr=None)\n",
    "\n",
    "cProfile.run('simulate(5e-5, 4, [c0, 0, 0], ST, K, times, wavelengths, l=1, I_source=I_source, w_irr=None)')\n",
    "\n",
    "# q_rel = _calc_q_rel(ST, C, wavelengths, I_source=I_source)\n",
    "\n",
    "# # plot concentration profiles\n",
    "# plt.rcParams['figure.figsize'] = [18, 10]\n",
    "# plt.subplot(2, 2, 1)\n",
    "# for i in range(n):\n",
    "#     plt.plot(times, C[:, i], label=names[i])\n",
    "# plt.plot(times, C.sum(axis=1), label='+'.join(names), linestyle='--')\n",
    "# plt.xlabel('Time')\n",
    "# plt.ylabel('Concentration (M)')\n",
    "# plt.legend()\n",
    "\n",
    "# D = C @ ST  # compute data matrix\n",
    "\n",
    "# # plot time-dependent spectra\n",
    "# plt.subplot(2, 2, 2)\n",
    "# for i in reversed(range(0, t, 10)):\n",
    "#     plt.plot(wavelengths, D[i], color=(1, i/t, 0, (t-i/1.4)/t), label='$t = {}$'.format(times[i]), lw=1)\n",
    "# plt.plot(wavelengths, I_source / I_source.max(), label='irrsource', linestyle='--', color='black', lw=0.8)\n",
    "# plt.title(\"Spectra\")\n",
    "# plt.xlabel('Wavelength (nm)')\n",
    "# plt.ylabel('Absorbance')\n",
    "\n",
    "# plt.subplot(2, 2, 3)\n",
    "# for i in range(n):\n",
    "#     plt.plot(times, q_rel[:, i], label=names[i])\n",
    "# plt.plot(times, q_rel.sum(axis=1), label='q' + '+'.join(names), linestyle='--')\n",
    "# plt.xlabel('Time')\n",
    "# plt.ylabel('$q(t)/q^0_{mol}$')\n",
    "# plt.legend()\n",
    "\n",
    "\n",
    "# plt.subplot(2, 2, 4)\n",
    "\n",
    "# # plt.semilogy(wavelengths[100:-100], Phi_ZE[100:-100], label=\"$\\Phi_{ZE}$\")\n",
    "# # plt.semilogy(wavelengths[100:-100], Phi_EZ[100:-100], label=\"$\\Phi_{EZ}$\")\n",
    "# plt.plot(wavelengths[100:-100], Phi_EHL[100:-100], label=\"$\\Phi_{ZHL}$\")\n",
    "\n",
    "# # plt.plot(wavelengths[50:], np.asarray([Phi_ZE, Phi_EZ, Phi_EHL]).T, label=['ZE', 'EZ', 'EHL'])\n",
    "# plt.xlabel('Wavelenght')\n",
    "# plt.ylabel('$\\Phi$')\n",
    "# plt.legend()\n",
    "\n",
    "\n",
    "# plt.show()\n"
   ]
  },
  {
   "cell_type": "code",
   "execution_count": 43,
   "metadata": {},
   "outputs": [
    {
     "data": {
      "image/png": "[encoded data removed]",
      "text/plain": [
       "<Figure size 1080x720 with 2 Axes>"
      ]
     },
     "metadata": {
      "needs_background": "light"
     },
     "output_type": "display_data"
    }
   ],
   "source": [
    "from scipy.linalg import null_space\n",
    "\n",
    "output = np.zeros((wavelengths.shape[0], ST.shape[0]))\n",
    "\n",
    "for i in range(wavelengths.shape[0]):\n",
    "    output[i] = null_space(K[i] * ST[:, i])[:, 0]\n",
    "\n",
    "c_eq = output / output.sum(axis=1, keepdims=True)\n",
    "\n",
    "plt.rcParams['figure.figsize'] = [15, 10]\n",
    "plt.subplot(2, 2, 1)\n",
    "\n",
    "for i in range(n):\n",
    "    plt.plot(wavelengths[:-120], c_eq[:-120, i], label=names[i])\n",
    "plt.legend()\n",
    "plt.ylabel(\"PSS composition\")\n",
    "    \n",
    "plt.subplot(2, 2, 3)\n",
    "for i in range(n):\n",
    "    plt.plot(wavelengths[:-120], ST[i, :-120], label=names[i])\n",
    "plt.xlabel('Wavelength')\n",
    "plt.ylabel('Epsilon $\\epsilon$')\n",
    "plt.legend()\n",
    "plt.show()\n"
   ]
  },
  {
   "cell_type": "code",
   "execution_count": null,
   "metadata": {},
   "outputs": [],
   "source": []
  },
  {
   "cell_type": "code",
   "execution_count": null,
   "metadata": {},
   "outputs": [],
   "source": []
  },
  {
   "cell_type": "code",
   "execution_count": 26,
   "metadata": {},
   "outputs": [],
   "source": [
    "A = np.asarray([1, 2, 3])"
   ]
  },
  {
   "cell_type": "code",
   "execution_count": 34,
   "metadata": {},
   "outputs": [
    {
     "data": {
      "text/plain": [
       "array([38, 44, 50, 56])"
      ]
     },
     "execution_count": 34,
     "metadata": {},
     "output_type": "execute_result"
    }
   ],
   "source": [
    "# A = A.reshape(-1, 1)\n",
    "B = np.asarray([1, 2, 3, 4, 5, 6, 7, 8, 9, 10, 11, 12]).reshape(3, 4)\n",
    "A @ B\n"
   ]
  },
  {
   "cell_type": "code",
   "execution_count": 38,
   "metadata": {},
   "outputs": [
    {
     "data": {
      "text/plain": [
       "array([[44]])"
      ]
     },
     "execution_count": 38,
     "metadata": {},
     "output_type": "execute_result"
    }
   ],
   "source": [
    "Q = A.reshape(-1, 1)\n",
    "W = np.asarray([5, 9, 7]).reshape(-1, 1)\n",
    "Q.T @ W"
   ]
  },
  {
   "cell_type": "code",
   "execution_count": 60,
   "metadata": {},
   "outputs": [
    {
     "name": "stderr",
     "output_type": "stream",
     "text": [
      "c:\\users\\dominik\\appdata\\local\\programs\\python\\python37\\lib\\site-packages\\ipykernel_launcher.py:8: RuntimeWarning: invalid value encountered in true_divide\n",
      "  \n"
     ]
    }
   ],
   "source": [
    "np.seterr(all='warn')\n",
    "x = np.linspace(0, 0.5, 1000)\n",
    "l = 1\n",
    "\n",
    "def f(x, c=np.log(10), tol=1e-2):\n",
    "    # exp(-xc) = 1 - xc + (xc)^2 / 2 - (xc)^3 / 6 ...\n",
    "    # (1 - exp(-xc)) / x  ~  c - xc^2 / 2 for low x\n",
    "    return np.where(x<=tol, c - x*c*c/2 + x*x*c*c*c/6, (1-np.exp(-x*c)) / x)\n",
    "\n",
    "y = f(x, tol=1e-6)\n",
    "y1 = f(x, tol=1)\n",
    "\n",
    "# y, np.log(10)\n",
    "\n",
    "# plt.plot(x, y, label='true')\n",
    "# plt.plot(x, y1, label='approx')\n",
    "# plt.legend()\n",
    "# plt.show()\n",
    "# # y, np.log(10)"
   ]
  },
  {
   "cell_type": "code",
   "execution_count": 69,
   "metadata": {},
   "outputs": [],
   "source": [
    "from scipy.linalg import null_space\n",
    "\n",
    "A = np.asarray([[1, 1], [1, 1]])\n",
    "# A\n",
    "\n",
    "v = null_space(A)"
   ]
  },
  {
   "cell_type": "code",
   "execution_count": 71,
   "metadata": {},
   "outputs": [
    {
     "data": {
      "text/plain": [
       "array([[-0.70710678],\n",
       "       [ 0.70710678]])"
      ]
     },
     "execution_count": 71,
     "metadata": {},
     "output_type": "execute_result"
    }
   ],
   "source": [
    "v"
   ]
  },
  {
   "cell_type": "code",
   "execution_count": 74,
   "metadata": {},
   "outputs": [
    {
     "data": {
      "text/plain": [
       "array([[1.]])"
      ]
     },
     "execution_count": 74,
     "metadata": {},
     "output_type": "execute_result"
    }
   ],
   "source": [
    "v.T.dot(v)"
   ]
  },
  {
   "cell_type": "code",
   "execution_count": 104,
   "metadata": {},
   "outputs": [
    {
     "data": {
      "text/latex": [
       "$\\displaystyle \\epsilon_{HL}$"
      ],
      "text/plain": [
       "epsilon_HL"
      ]
     },
     "execution_count": 104,
     "metadata": {},
     "output_type": "execute_result"
    }
   ],
   "source": [
    "from sympy import Matrix, diag\n",
    "from sympy import symbols\n",
    "\n",
    "p_ze, p_ez, p_ehl, p_hle = symbols('Phi_ZE Phi_EZ Phi_EHL Phi_HLE')\n",
    "e_z, e_e, e_hl = symbols('epsilon_Z epsilon_E epsilon_HL')\n",
    "\n",
    "e_hl"
   ]
  },
  {
   "cell_type": "code",
   "execution_count": 132,
   "metadata": {},
   "outputs": [
    {
     "data": {
      "text/latex": [
       "$\\displaystyle \\left[\\begin{matrix}- \\Phi_{ZE} \\epsilon_{Z} & \\Phi_{EZ} \\epsilon_{E} & 0\\\\\\Phi_{ZE} \\epsilon_{Z} & \\epsilon_{E} \\left(- \\Phi_{EHL} - \\Phi_{EZ}\\right) & \\Phi_{HLE} \\epsilon_{HL}\\\\0 & \\Phi_{EHL} \\epsilon_{E} & - \\Phi_{HLE} \\epsilon_{HL}\\end{matrix}\\right]$"
      ],
      "text/plain": [
       "Matrix([\n",
       "[-Phi_ZE*epsilon_Z,              Phi_EZ*epsilon_E,                   0],\n",
       "[ Phi_ZE*epsilon_Z, epsilon_E*(-Phi_EHL - Phi_EZ),  Phi_HLE*epsilon_HL],\n",
       "[                0,             Phi_EHL*epsilon_E, -Phi_HLE*epsilon_HL]])"
      ]
     },
     "execution_count": 132,
     "metadata": {},
     "output_type": "execute_result"
    }
   ],
   "source": [
    "A = [[-p_ze, p_ez, 0], [p_ze, -p_ez -p_ehl, p_hle], [0, p_ehl, -p_hle]]\n",
    "A = Matrix(A)\n",
    "\n",
    "E = diag(e_z, e_e, e_hl)\n",
    "\n",
    "_A = A*E\n",
    "_A"
   ]
  },
  {
   "cell_type": "code",
   "execution_count": 131,
   "metadata": {},
   "outputs": [
    {
     "data": {
      "text/latex": [
       "$\\displaystyle \\left[\\begin{matrix}\\frac{\\Phi_{EZ} \\Phi_{HLE} \\epsilon_{E} \\epsilon_{HL}}{- \\Phi_{EZ} \\Phi_{ZE} \\epsilon_{E} \\epsilon_{Z} - \\Phi_{ZE} \\epsilon_{E} \\epsilon_{Z} \\left(- \\Phi_{EHL} - \\Phi_{EZ}\\right)}\\\\\\frac{\\Phi_{HLE} \\Phi_{ZE} \\epsilon_{HL} \\epsilon_{Z}}{- \\Phi_{EZ} \\Phi_{ZE} \\epsilon_{E} \\epsilon_{Z} - \\Phi_{ZE} \\epsilon_{E} \\epsilon_{Z} \\left(- \\Phi_{EHL} - \\Phi_{EZ}\\right)}\\\\1\\end{matrix}\\right]$"
      ],
      "text/plain": [
       "Matrix([\n",
       "[Phi_EZ*Phi_HLE*epsilon_E*epsilon_HL/(-Phi_EZ*Phi_ZE*epsilon_E*epsilon_Z - Phi_ZE*epsilon_E*epsilon_Z*(-Phi_EHL - Phi_EZ))],\n",
       "[Phi_HLE*Phi_ZE*epsilon_HL*epsilon_Z/(-Phi_EZ*Phi_ZE*epsilon_E*epsilon_Z - Phi_ZE*epsilon_E*epsilon_Z*(-Phi_EHL - Phi_EZ))],\n",
       "[                                                                                                                        1]])"
      ]
     },
     "execution_count": 131,
     "metadata": {},
     "output_type": "execute_result"
    }
   ],
   "source": [
    "An = _A.nullspace()\n",
    "An[0]\n",
    "\n",
    "# eig = _A.eigenvals()\n",
    "\n",
    "# l = [*eig]\n",
    "# l[0]"
   ]
  },
  {
   "cell_type": "code",
   "execution_count": null,
   "metadata": {},
   "outputs": [],
   "source": []
  }
 ],
 "metadata": {
  "kernelspec": {
   "display_name": "Python 3",
   "language": "python",
   "name": "python3"
  },
  "language_info": {
   "codemirror_mode": {
    "name": "ipython",
    "version": 3
   },
   "file_extension": ".py",
   "mimetype": "text/x-python",
   "name": "python",
   "nbconvert_exporter": "python",
   "pygments_lexer": "ipython3",
   "version": "3.7.5"
  }
 },
 "nbformat": 4,
 "nbformat_minor": 4
}
