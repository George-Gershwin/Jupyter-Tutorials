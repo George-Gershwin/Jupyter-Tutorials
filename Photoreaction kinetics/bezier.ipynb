{
 "cells": [
  {
   "cell_type": "code",
   "execution_count": 2,
   "metadata": {},
   "outputs": [],
   "source": [
    "import matplotlib.pyplot as plt\n",
    "import numpy as np\n",
    "\n",
    "# import bezier"
   ]
  },
  {
   "cell_type": "code",
   "execution_count": 11,
   "metadata": {},
   "outputs": [],
   "source": [
    "fname = r'C:\\Users\\Dominik\\Documents\\MUNI\\Organic Photochemistry\\Projects\\2019-Bilirubin project\\HPLC\\new\\HL_HCL IRR 375 NM LED IN VIAL, T=110 MIN 2020-04-02 16-22-31.D\\spec3d.csv'\n",
    "\n",
    "\n",
    "try:\n",
    "\n",
    "    data = np.genfromtxt(fname, dtype=np.float32, skip_header=0, delimiter=',', filling_values=None,\n",
    "                         autostrip=True)\n",
    "except ValueError:\n",
    "    data = np.genfromtxt(fname, dtype=np.float32, skip_header=0, delimiter=',', filling_values=None,\n",
    "                         autostrip=True, encoding='utf16')"
   ]
  },
  {
   "cell_type": "code",
   "execution_count": 12,
   "metadata": {},
   "outputs": [
    {
     "data": {
      "text/plain": [
       "array([[           nan,  1.9000000e+02,  1.9100000e+02, ...,\n",
       "         6.3800000e+02,  6.3900000e+02,  6.4000000e+02],\n",
       "       [ 2.0830000e-03,  2.1184200e-01, -1.2116900e-01, ...,\n",
       "        -2.8417001e-02, -3.4205999e-02, -1.6548000e-02],\n",
       "       [ 8.7500000e-03,  1.3557801e-01, -1.6503000e-01, ...,\n",
       "        -3.0749001e-02, -3.3222001e-02, -1.4298000e-02],\n",
       "       ...,\n",
       "       [ 2.4982082e+01, -2.8870780e+00, -2.7049479e+00, ...,\n",
       "        -1.7594841e+00, -1.8845650e+00, -1.8558060e+00],\n",
       "       [ 2.4988750e+01, -3.1229849e+00, -2.8604419e+00, ...,\n",
       "        -1.7695500e+00, -1.8976780e+00, -1.8672200e+00],\n",
       "       [ 2.4995417e+01, -3.3901861e+00, -3.0429139e+00, ...,\n",
       "        -1.7772990e+00, -1.9066930e+00, -1.8738580e+00]], dtype=float32)"
      ]
     },
     "execution_count": 12,
     "metadata": {},
     "output_type": "execute_result"
    }
   ],
   "source": [
    "data"
   ]
  },
  {
   "cell_type": "code",
   "execution_count": 62,
   "metadata": {},
   "outputs": [],
   "source": [
    "nodes = np.asarray([\n",
    "        [0.0, 0.6, 1, 1.5],\n",
    "        [0, 0.5, 0.5, 0]])\n",
    "\n",
    "\n",
    "curve = bezier.Curve(nodes, degree=nodes.shape[1] - 1)\n",
    "\n",
    "x = np.linspace(0, 2, 100)\n",
    "y = curve.evaluate_multi(x).squeeze()\n"
   ]
  },
  {
   "cell_type": "code",
   "execution_count": 63,
   "metadata": {},
   "outputs": [
    {
     "data": {
      "image/png": "[encoded data removed]",
      "text/plain": [
       "<Figure size 432x288 with 1 Axes>"
      ]
     },
     "metadata": {
      "needs_background": "light"
     },
     "output_type": "display_data"
    }
   ],
   "source": [
    "plt.plot(x, y[1])\n",
    "plt.scatter(nodes[0], nodes[1])\n",
    "plt.show()\n"
   ]
  },
  {
   "cell_type": "code",
   "execution_count": 64,
   "metadata": {},
   "outputs": [],
   "source": [
    "from scipy.interpolate import BSpline"
   ]
  },
  {
   "cell_type": "code",
   "execution_count": 71,
   "metadata": {},
   "outputs": [],
   "source": [
    "xx = np.linspace(1.5, 4.5, 50)\n",
    "\n",
    "k = 2\n",
    "t = [0, 1, 2, 3, 4, 5, 6]\n",
    "c = [-1, 2, 0, 5]\n",
    "spl = BSpline(t, c, k)"
   ]
  },
  {
   "cell_type": "code",
   "execution_count": 72,
   "metadata": {},
   "outputs": [
    {
     "data": {
      "image/png": "[encoded data removed]",
      "text/plain": [
       "<Figure size 432x288 with 1 Axes>"
      ]
     },
     "metadata": {
      "needs_background": "light"
     },
     "output_type": "display_data"
    }
   ],
   "source": [
    "plt.plot(xx, spl(xx), 'b-', label='BSpline')\n",
    "plt.scatter(t, t)\n",
    "plt.show()"
   ]
  },
  {
   "cell_type": "code",
   "execution_count": null,
   "metadata": {},
   "outputs": [],
   "source": []
  }
 ],
 "metadata": {
  "kernelspec": {
   "display_name": "Python 3",
   "language": "python",
   "name": "python3"
  },
  "language_info": {
   "codemirror_mode": {
    "name": "ipython",
    "version": 3
   },
   "file_extension": ".py",
   "mimetype": "text/x-python",
   "name": "python",
   "nbconvert_exporter": "python",
   "pygments_lexer": "ipython3",
   "version": "3.7.3"
  }
 },
 "nbformat": 4,
 "nbformat_minor": 4
}
