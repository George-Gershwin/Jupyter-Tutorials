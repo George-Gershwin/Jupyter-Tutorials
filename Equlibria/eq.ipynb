{
 "cells": [
  {
   "cell_type": "markdown",
   "metadata": {},
   "source": [
    "# Dissociation of polyprotic acids\n",
    "\n",
    "\n",
    "$$\\mathrm{AH}_n \\rightarrow \\mathrm{AH}_{n-1}^{-} \\rightarrow \\mathrm{AH}_{n-2}^{2-} \\rightarrow ... \\rightarrow \\mathrm{A}^{n-}$$\n",
    "\n",
    "\n",
    "equlibrium is characterized with particular $\\mathrm pK_a$'s\n",
    "\n",
    "What will be the population of different species in solution of specific pH, given the dissociation constants ?\n",
    "\n",
    "For diprotic acid\n",
    "\n",
    "$$\\mathrm{AH}_2 \\xrightarrow[-\\mathrm H^+]{\\mathrm pK_1} \\mathrm{AH}^{-} \\xrightarrow[-\\mathrm H^+]{\\mathrm pK_2} \\mathrm{A}^{2-}$$\n",
    "\n",
    "\n",
    "$$\\mathrm pK_1 = \\mathrm{pH} +\\log\\frac{[\\mathrm{AH}_2]}{[\\mathrm{AH}^{-}]} \\qquad \\mathrm pK_2 = \\mathrm{pH} +\\log\\frac{[\\mathrm{AH}^{-}]}{[\\mathrm{A}^{2-}]}$$\n",
    "\n",
    "populations of species can be written as \n",
    "\n",
    "$$x_1 = \\frac{[\\mathrm{AH}_2]}{[\\mathrm{AH}_2] + [\\mathrm{AH}^{-}] + [\\mathrm{A}^{2-}]} \\qquad x_2 = \\frac{[\\mathrm{AH}^{-}]}{[\\mathrm{AH}_2] + [\\mathrm{AH}^{-}] + [\\mathrm{A}^{2-}]} \\qquad x_3 = \\frac{[\\mathrm{A}^{2-}]}{[\\mathrm{AH}_2] + [\\mathrm{AH}^{-}] + [\\mathrm{A}^{2-}]}$$\n",
    "\n",
    "dissociation constants can be rewritten with the use of populations and also sum of all populations must be 1 (mass balance)\n",
    "\n",
    "$$10^{\\mathrm pK_1  - \\mathrm{pH}}=  \\frac{x_1}{x_2}$$\n",
    "$$10^{\\mathrm pK_2  - \\mathrm{pH}}=  \\frac{x_2}{x_3}$$\n",
    "$$x_1 + x_2 + x_3 = 1$$\n",
    "\n",
    "We need to solve this system of equations. This can be conveniently rewritten in a matrix form $\\mathbf{Ax} = \\mathbf{b}$:\n",
    "\n",
    "\n",
    "$$\\begin{pmatrix}\n",
    "-1 & 10^{\\mathrm pK_1  - \\mathrm{pH}} & 0\\\\\n",
    "0 & -1 & 10^{\\mathrm pK_2  - \\mathrm{pH}}\\\\\n",
    "1 & 1 & 1\n",
    "\\end{pmatrix}\n",
    "\\begin{pmatrix}\n",
    "x_1 \\\\\n",
    "x_2 \\\\\n",
    "x_3\n",
    "\\end{pmatrix}=\\begin{pmatrix}\n",
    "0 \\\\\n",
    "0 \\\\\n",
    "1\n",
    "\\end{pmatrix}$$\n",
    "\n",
    "\n",
    "\n",
    "\n",
    "Solution of this system for $\\mathbf x$ is \n",
    "\n",
    "$$\\mathbf x=\\begin{pmatrix}\n",
    "x_1 \\\\\n",
    "x_2 \\\\\n",
    "x_3\n",
    "\\end{pmatrix}=\\begin{pmatrix}\n",
    "\\frac{f_1f_2}{f_1f_2 + f_2 + 1} \\\\\n",
    "\\frac{f_2}{f_1f_2 + f_2 + 1} \\\\\n",
    "\\frac{1}{f_1f_2 + f_2 + 1}\n",
    "\\end{pmatrix}$$\n",
    "\n",
    "where $f_1 = 10^{\\mathrm pK_1  - \\mathrm{pH}}$ and $f_2 = 10^{\\mathrm pK_2  - \\mathrm{pH}}$\n",
    "\n",
    "One can spot a pattern when increasing the number of dissociable protons on the acid and the general solution of this equlibrium for population of species $x_i$ is\n",
    "\n",
    "\n",
    "$$x_i = \\frac{\\displaystyle\\prod_{k=i}^n f_k}{1 + \\displaystyle\\sum_{j=1}^n\\prod_{k=j}^n f_k}, \\qquad f_k=10^{\\mathrm pK_k - \\mathrm pH}$$\n",
    "\n",
    "where $n$ is number of $\\mathrm pK_a$'s and number of species is therefore $n+1$."
   ]
  },
  {
   "cell_type": "code",
   "execution_count": 1,
   "metadata": {},
   "outputs": [],
   "source": [
    "from sympy import symbols, Matrix\n",
    "from sympy.solvers.solveset import linsolve\n",
    "import matplotlib.pyplot as plt\n",
    "import numpy as np"
   ]
  },
  {
   "cell_type": "code",
   "execution_count": 2,
   "metadata": {},
   "outputs": [],
   "source": [
    "x1, x2, x3, x4, f1, f2, f3 = symbols('x1, x2, x3, x4, f1, f2, f3')"
   ]
  },
  {
   "cell_type": "code",
   "execution_count": 3,
   "metadata": {},
   "outputs": [
    {
     "data": {
      "text/latex": [
       "$\\displaystyle \\left[\\begin{matrix}-1 & f_{1} & 0 & 0 & 0\\\\0 & -1 & f_{2} & 0 & 0\\\\0 & 0 & -1 & f_{3} & 0\\\\1 & 1 & 1 & 1 & 1\\end{matrix}\\right]$"
      ],
      "text/plain": [
       "Matrix([\n",
       "[-1, f1,  0,  0, 0],\n",
       "[ 0, -1, f2,  0, 0],\n",
       "[ 0,  0, -1, f3, 0],\n",
       "[ 1,  1,  1,  1, 1]])"
      ]
     },
     "execution_count": 3,
     "metadata": {},
     "output_type": "execute_result"
    }
   ],
   "source": [
    "M = Matrix([[-1, f1, 0, 0, 0], [0, -1, f2, 0, 0], [0, 0, -1, f3, 0],  [1, 1, 1, 1, 1]])\n",
    "M"
   ]
  },
  {
   "cell_type": "code",
   "execution_count": 4,
   "metadata": {},
   "outputs": [
    {
     "data": {
      "text/latex": [
       "$\\displaystyle \\left\\{\\left( \\frac{f_{1} f_{2} f_{3}}{f_{3} \\left(f_{2} \\left(f_{1} + 1\\right) + 1\\right) + 1}, \\  \\frac{f_{2} f_{3}}{f_{3} \\left(f_{2} \\left(f_{1} + 1\\right) + 1\\right) + 1}, \\  \\frac{f_{3}}{f_{3} \\left(f_{2} \\left(f_{1} + 1\\right) + 1\\right) + 1}, \\  \\frac{1}{f_{3} \\left(f_{2} \\left(f_{1} + 1\\right) + 1\\right) + 1}\\right)\\right\\}$"
      ],
      "text/plain": [
       "FiniteSet((f1*f2*f3/(f3*(f2*(f1 + 1) + 1) + 1), f2*f3/(f3*(f2*(f1 + 1) + 1) + 1), f3/(f3*(f2*(f1 + 1) + 1) + 1), 1/(f3*(f2*(f1 + 1) + 1) + 1)))"
      ]
     },
     "execution_count": 4,
     "metadata": {},
     "output_type": "execute_result"
    }
   ],
   "source": [
    "system = A, b = M[:, :-1], M[:, -1]\n",
    "\n",
    "linsolve(system, x1, x2, x3, x4)"
   ]
  },
  {
   "cell_type": "code",
   "execution_count": 5,
   "metadata": {},
   "outputs": [],
   "source": [
    "def simulate(pkas, pH):\n",
    "    n = len(pkas)\n",
    "    _pkas = np.sort(np.asarray(pkas))\n",
    "    \n",
    "    fs = 10 ** (_pkas[:, None] - pH[None, :])  # factors for pKas\n",
    "    \n",
    "    profiles = np.ones((n+1, pH.shape[0]))\n",
    "    for i in range(n):\n",
    "        profiles[i] = fs[i:, :].prod(axis=0, keepdims=False)\n",
    "        \n",
    "    profiles /= profiles.sum(axis=0)  # divide each profile by sum of all profiles\n",
    "    \n",
    "    return profiles"
   ]
  },
  {
   "cell_type": "code",
   "execution_count": 9,
   "metadata": {},
   "outputs": [
    {
     "data": {
      "image/png": "[encoded data removed]",
      "text/plain": [
       "<Figure size 432x288 with 1 Axes>"
      ]
     },
     "metadata": {
      "needs_background": "light"
     },
     "output_type": "display_data"
    }
   ],
   "source": [
    "pH = np.linspace(0, 14, 500)\n",
    "pKas = [2, 4, 8, 8.5, 10]\n",
    "\n",
    "populations = simulate(pKas, pH)\n",
    "\n",
    "names = [f'$x_{i + 1}$' for i in range(populations.shape[0])]\n",
    "\n",
    "for i in range(populations.shape[0]):\n",
    "    plt.plot(pH, populations[i], label=names[i])\n",
    "    \n",
    "plt.legend()\n",
    "plt.xlabel('pH')\n",
    "plt.ylabel('Population')\n",
    "plt.show()\n",
    "\n"
   ]
  },
  {
   "cell_type": "code",
   "execution_count": 11,
   "metadata": {},
   "outputs": [
    {
     "data": {
      "text/plain": [
       "array([[0.17950479, 0.82049521],\n",
       "       [0.07203316, 0.92796684],\n",
       "       [0.03744763, 0.96255237]])"
      ]
     },
     "execution_count": 11,
     "metadata": {},
     "output_type": "execute_result"
    }
   ],
   "source": [
    "pH = np.asarray([6.95, 7.4, 7.7])\n",
    "\n",
    "populations = simulate([6.29], pH)\n",
    "\n",
    "populations.T"
   ]
  },
  {
   "cell_type": "code",
   "execution_count": null,
   "metadata": {},
   "outputs": [],
   "source": []
  }
 ],
 "metadata": {
  "kernelspec": {
   "display_name": "Python 3",
   "language": "python",
   "name": "python3"
  },
  "language_info": {
   "codemirror_mode": {
    "name": "ipython",
    "version": 3
   },
   "file_extension": ".py",
   "mimetype": "text/x-python",
   "name": "python",
   "nbconvert_exporter": "python",
   "pygments_lexer": "ipython3",
   "version": "3.7.6"
  }
 },
 "nbformat": 4,
 "nbformat_minor": 4
}
