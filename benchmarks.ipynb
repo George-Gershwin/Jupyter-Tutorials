{
 "cells": [
  {
   "cell_type": "code",
   "execution_count": 1,
   "metadata": {},
   "outputs": [],
   "source": [
    "import numpy as np\n",
    "import time\n",
    "import matplotlib.pyplot as plt\n",
    "\n",
    "sizes = np.asarray([10, 100, 1e3, 1e4, 1e5, 1e6, 1e7], dtype=int)\n",
    "ts = [np.linspace(0, 10, s) for s in sizes]\n",
    "\n"
   ]
  },
  {
   "cell_type": "code",
   "execution_count": 2,
   "metadata": {},
   "outputs": [],
   "source": [
    "def func(t):\n",
    "    return np.exp(-t)\n"
   ]
  },
  {
   "cell_type": "code",
   "execution_count": 3,
   "metadata": {},
   "outputs": [
    {
     "name": "stdout",
     "output_type": "stream",
     "text": [
      "1.23 µs ± 48.6 ns per loop (mean ± std. dev. of 7 runs, 1000000 loops each)\n",
      "2.08 µs ± 318 ns per loop (mean ± std. dev. of 7 runs, 1000000 loops each)\n",
      "13.8 µs ± 2.61 µs per loop (mean ± std. dev. of 7 runs, 10000 loops each)\n",
      "78.2 µs ± 15.5 µs per loop (mean ± std. dev. of 7 runs, 10000 loops each)\n",
      "1.23 ms ± 26.6 µs per loop (mean ± std. dev. of 7 runs, 1000 loops each)\n",
      "12.8 ms ± 125 µs per loop (mean ± std. dev. of 7 runs, 100 loops each)\n",
      "136 ms ± 919 µs per loop (mean ± std. dev. of 7 runs, 10 loops each)\n"
     ]
    }
   ],
   "source": [
    "for t in ts:\n",
    "    %timeit func(t)\n"
   ]
  },
  {
   "cell_type": "markdown",
   "metadata": {},
   "source": [
    "8700 6core 12 threads\n",
    "\n",
    "819 ns ± 1.68 ns per loop (mean ± std. dev. of 7 runs, 1000000 loops each)\n",
    "\n",
    "1.29 µs ± 1.99 ns per loop (mean ± std. dev. of 7 runs, 1000000 loops each)\n",
    "\n",
    "6.53 µs ± 78 ns per loop (mean ± std. dev. of 7 runs, 100000 loops each)\n",
    "\n",
    "53.6 µs ± 540 ns per loop (mean ± std. dev. of 7 runs, 10000 loops each)\n",
    "\n",
    "526 µs ± 1.27 µs per loop (mean ± std. dev. of 7 runs, 1000 loops each)\n",
    "\n",
    "7.87 ms ± 102 µs per loop (mean ± std. dev. of 7 runs, 100 loops each)\n",
    "\n",
    "78.3 ms ± 1.26 ms per loop (mean ± std. dev. of 7 runs, 10 loops each)\n",
    "\n",
    "\n",
    "6500U 2C4T\n",
    "\n",
    "1.23 µs ± 48.6 ns per loop (mean ± std. dev. of 7 runs, 1000000 loops each)\n",
    "\n",
    "2.08 µs ± 318 ns per loop (mean ± std. dev. of 7 runs, 1000000 loops each)\n",
    "\n",
    "13.8 µs ± 2.61 µs per loop (mean ± std. dev. of 7 runs, 10000 loops each)\n",
    "\n",
    "78.2 µs ± 15.5 µs per loop (mean ± std. dev. of 7 runs, 10000 loops each)\n",
    "\n",
    "1.23 ms ± 26.6 µs per loop (mean ± std. dev. of 7 runs, 1000 loops each)\n",
    "\n",
    "12.8 ms ± 125 µs per loop (mean ± std. dev. of 7 runs, 100 loops each)\n",
    "\n",
    "136 ms ± 919 µs per loop (mean ± std. dev. of 7 runs, 10 loops each)"
   ]
  },
  {
   "cell_type": "code",
   "execution_count": 15,
   "metadata": {},
   "outputs": [
    {
     "ename": "AttributeError",
     "evalue": "module 'matplotlib.pyplot' has no attribute 'semilogxy'",
     "output_type": "error",
     "traceback": [
      "\u001b[1;31m---------------------------------------------------------------------------\u001b[0m",
      "\u001b[1;31mAttributeError\u001b[0m                            Traceback (most recent call last)",
      "\u001b[1;32m<ipython-input-15-79279d1832ca>\u001b[0m in \u001b[0;36m<module>\u001b[1;34m\u001b[0m\n\u001b[0;32m      1\u001b[0m \u001b[0mtimes\u001b[0m \u001b[1;33m=\u001b[0m \u001b[1;33m[\u001b[0m\u001b[1;36m0.8\u001b[0m\u001b[1;33m,\u001b[0m \u001b[1;36m1.29\u001b[0m\u001b[1;33m,\u001b[0m \u001b[1;36m6.53\u001b[0m\u001b[1;33m,\u001b[0m \u001b[1;36m53.6\u001b[0m\u001b[1;33m,\u001b[0m \u001b[1;36m526\u001b[0m\u001b[1;33m,\u001b[0m \u001b[1;36m7870\u001b[0m\u001b[1;33m,\u001b[0m \u001b[1;36m78300\u001b[0m\u001b[1;33m]\u001b[0m\u001b[1;33m\u001b[0m\u001b[1;33m\u001b[0m\u001b[0m\n\u001b[0;32m      2\u001b[0m \u001b[1;33m\u001b[0m\u001b[0m\n\u001b[1;32m----> 3\u001b[1;33m \u001b[0mplt\u001b[0m\u001b[1;33m.\u001b[0m\u001b[0msemilogxy\u001b[0m\u001b[1;33m(\u001b[0m\u001b[0msizes\u001b[0m\u001b[1;33m,\u001b[0m \u001b[0mtimes\u001b[0m\u001b[1;33m)\u001b[0m\u001b[1;33m\u001b[0m\u001b[1;33m\u001b[0m\u001b[0m\n\u001b[0m\u001b[0;32m      4\u001b[0m \u001b[0mplt\u001b[0m\u001b[1;33m.\u001b[0m\u001b[0mshow\u001b[0m\u001b[1;33m(\u001b[0m\u001b[1;33m)\u001b[0m\u001b[1;33m\u001b[0m\u001b[1;33m\u001b[0m\u001b[0m\n",
      "\u001b[1;31mAttributeError\u001b[0m: module 'matplotlib.pyplot' has no attribute 'semilogxy'"
     ]
    }
   ],
   "source": [
    "times = [0.8, 1.29, 6.53, 53.6, 526, 7870, 78300]\n",
    "\n",
    "plt.plot(sizes, times)\n",
    "plt.yscale('log')\n",
    "plt.xscale('log')\n",
    "\n",
    "plt.show()"
   ]
  },
  {
   "cell_type": "code",
   "execution_count": null,
   "metadata": {},
   "outputs": [],
   "source": []
  }
 ],
 "metadata": {
  "kernelspec": {
   "display_name": "Python 3",
   "language": "python",
   "name": "python3"
  },
  "language_info": {
   "codemirror_mode": {
    "name": "ipython",
    "version": 3
   },
   "file_extension": ".py",
   "mimetype": "text/x-python",
   "name": "python",
   "nbconvert_exporter": "python",
   "pygments_lexer": "ipython3",
   "version": "3.8.6"
  }
 },
 "nbformat": 4,
 "nbformat_minor": 4
}
