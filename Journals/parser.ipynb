{
 "cells": [
  {
   "cell_type": "code",
   "execution_count": 2,
   "metadata": {},
   "outputs": [],
   "source": [
    "import numpy as np\n",
    "import os\n",
    "import rispy"
   ]
  },
  {
   "cell_type": "code",
   "execution_count": 3,
   "metadata": {},
   "outputs": [],
   "source": [
    "j_fname = 'journal list.txt'\n",
    "fname = 'halfBR-new.ris'"
   ]
  },
  {
   "cell_type": "code",
   "execution_count": 4,
   "metadata": {},
   "outputs": [],
   "source": [
    "journals = []\n",
    "for line in open(j_fname, 'r', encoding='utf-8-sig'):\n",
    "    entries = line.strip().split('\\t')\n",
    "    entries[0] = entries[0].lower()\n",
    "    journals.append(entries)"
   ]
  },
  {
   "cell_type": "code",
   "execution_count": 5,
   "metadata": {},
   "outputs": [],
   "source": [
    "counts = np.asarray([entry.__len__() for entry in journals])"
   ]
  },
  {
   "cell_type": "code",
   "execution_count": 6,
   "metadata": {},
   "outputs": [],
   "source": [
    "new_list = [entry for entry in journals if entry.__len__() == 2]  # remove journals that dont have an abbreviation"
   ]
  },
  {
   "cell_type": "code",
   "execution_count": 7,
   "metadata": {},
   "outputs": [],
   "source": [
    "new_list = sorted(new_list, key=lambda entry: entry[0])"
   ]
  },
  {
   "cell_type": "code",
   "execution_count": 8,
   "metadata": {},
   "outputs": [],
   "source": [
    "j_dict = dict(new_list)"
   ]
  },
  {
   "cell_type": "code",
   "execution_count": 9,
   "metadata": {},
   "outputs": [
    {
     "data": {
      "text/plain": [
       "'Phys. Chem. Chem. Phys.'"
      ]
     },
     "execution_count": 9,
     "metadata": {},
     "output_type": "execute_result"
    }
   ],
   "source": [
    "j_dict['physical chemistry chemical physics']"
   ]
  },
  {
   "cell_type": "code",
   "execution_count": 43,
   "metadata": {},
   "outputs": [],
   "source": [
    "preps = [line.strip() for line in open('prepositions.txt', 'r')]"
   ]
  },
  {
   "cell_type": "code",
   "execution_count": 44,
   "metadata": {},
   "outputs": [],
   "source": [
    "def capitalize(sentence, preps):\n",
    "    words = sentence.split(' ')\n",
    "    words[0] = words[0].capitalize()\n",
    "    for i in range(len(words)):\n",
    "        if words[i].lower() not in preps:\n",
    "            words[i] = words[i].capitalize()\n",
    "    return ' '.join(words)"
   ]
  },
  {
   "cell_type": "code",
   "execution_count": 45,
   "metadata": {},
   "outputs": [],
   "source": [
    "entries = list(rispy.load(open(fname, 'r', encoding='utf-8-sig')))\n",
    "for entry in entries:\n",
    "    try:\n",
    "        j_name = entry['secondary_title']\n",
    "        abbr = j_dict[j_name.lower()]\n",
    "        \n",
    "        entry['secondary_title'] = abbr\n",
    "\n",
    "    except KeyError:\n",
    "        pass\n",
    "    \n",
    "    try:\n",
    "        entry['title'] = capitalize(entry['title'], preps)\n",
    "\n",
    "    except KeyError:\n",
    "        pass\n",
    "    "
   ]
  },
  {
   "cell_type": "code",
   "execution_count": 46,
   "metadata": {},
   "outputs": [
    {
     "name": "stdout",
     "output_type": "stream",
     "text": [
      "Uniqueness and Rotation Ambiguities in Multivariate Curve Resolution Methods\n",
      "Quantum Yield and Skin Filtering Effects on the Formation Rate of Lumirubin\n",
      "Evaluation of the Quantum Yield for E->z Isomerization of Bilirubin Bound to Human Serum Albumin. Evidence of Internal Conversion Processes Competing with Configurational Photoisomerization\n",
      "Wavelength-dependent Quantum Yield for Z-e Isomerization of Bilirubin Complexed with Human Serum-albumin\n",
      "Pyrazole, Imidazole, and Isoindolone Dipyrrinone Analogues: Ph-dependent Fluorophores That Red-shift Emission Frequencies in a Basic Solution\n",
      "Intermolecular Hydrogen-bonding in Pi-facial Dipyrrinone Dimers as Molecular Capsules\n",
      "Stable 4e-dipyrrinones\n",
      "Strongly Fluorescent Dipyrrinones - Substituent Effects\n",
      "Intensely Fluorescent Dipyrrinones\n",
      "Readily Synthesized Novel Fluorescent Dipyrrinones\n",
      "Strongly Fluorescent Dipyrrinones. Internal Quenching\n",
      "Photobilirubin-ii\n",
      "Structure of Bilirubin\n",
      "Phototherapy and the Chemistry of Bilirubin\n",
      "Synthesis and Spectroscopic Properties of a New Class of Strongly Fluorescent Dipyrrinones\n",
      "Study of Model Systems for Bilirubin and Bilin Chromophores: Determination and Modification of Thermal and Photochemical Properties\n",
      "Converting Dipyrrinones to Lactim Ethers to Fluorescent N,n '-difluoroboryl Derivatives\n",
      "Synthesis and Properties of 2,2'-pyrromethene-5[1h]-one Analogs - the Furan, Thiophene, Benzene, 4-methoxybenzene, 2-pyridine and 4-pyridine Analogs\n",
      "1,3,4-trimethyl-2,2'-pyrromethen-5[1h]-one and Its 1'-methyl Derivative - Synthesis, Thermal and Photochemical Reactivity\n",
      "Photochemical Multivariate Curve Resolution Models for the Investigation of Photochromic Systems under Continuous Irradiation\n",
      "Quantum Yields for the Cyclization and Configurational Isomerization of 4e,15z-bilirubin\n",
      "Phototherapy for Neonatal Jaundice: in Vitro Comparison of Light Sources\n",
      "The Chemistry of Linear Oligopyrroles and Bile Pigments\n",
      "Chemistry of Pyrrole Pigments .29. Anaerobic Photochemistry of Bile-pigments - Mechanism of the Photoisomerization at Exocyclic Double-bonds\n",
      "Nmr Chemical Shifts of Common Laboratory Solvents as Trace Impurities\n",
      "Wavelength Dependence of the Quantum Yield for the Structural Isomerization of Bilirubin\n",
      "Synthesis of the Sterically Fixed Biliverdin Derivative Bearing the Z-anti C/d-ring Component\n",
      "Molecular Recognition Studies with a Simple Dipyrrinone\n",
      "A Bodipy Analogue from the Tautomerization of Sodium 3-oxide Bodipy\n",
      "Syntheses of Bilin Chromophores Toward the Investigation of Structure and Function of Phytochromes\n",
      "Photochromism of Diarylethene Molecules and Crystals: Memories, Switches, and Actuators\n",
      "Wavelength Dependence of the Geometric and Structural Photoisomerization of Bilirubin Bound to Human-serum Albumin\n",
      "Fluorescence Quenching of Dipyridamole Associated to Peroxyl Radical Scavenging: a Versatile Probe to Measure the Chain Breaking Antioxidant Activity of Biomolecules\n",
      "Studies on Vitamin-d and Related-compounds .29. Effects of Wavelength and Conformation on the Photochemistry of Vitamin-d and Related Conjugated Trienes\n",
      "A Novel Accurate Lc-ms/ms Method for Quantitative Determination of Z-lumirubin\n",
      "Total Synthesis of (+/-)-phytochromobilin Starting from Two Pyrrole Derivatives\n",
      "Effect of the Binding-sites of Human Serum-albumin on the Efficiency and Photostationary State Isomer-ratios of the Photoisomerization of Bilirubin\n",
      "C-13 Nuclear Magnetic-resonance Study of the Motional Behavior of Bilirubin and of Some of Its Derivatives\n",
      "Nuclear Magnetic Resonance Studies of the Conformation of Bilirubin and Its Derivatives in Solution\n",
      "A New and Convenient Wittig-type Reaction for the Preparation of Pyrromethenone Derivative\n",
      "Photochemistry of Organic Compounds\n",
      "A Novel Synthesis of C/d-rings Component of Phytochromobilin Dimethyl Ester\n",
      "Studies on Plant Bile-pigments .2. Regioselective Photochemical and Acid-catalyzed Z,e Isomerization of Dihydrobilindione as Phytochrome Model\n",
      "Spectral Study of the Photochemistry of Dipyrrole Models for Bilirubin Bound to Human-serum Albumin\n",
      "Molecular Mechanisms of Phototherapy for Neonatal Jaundice\n",
      "Synthesis, Photooxidation and Z Reversible E Photoisomerization of Benzalpyrrolinones\n",
      "Restricted Bond Rotation and Fluorescence Following Photoexcitation of Dipyrrinones\n",
      "Phototherapy for Neonatal Jaundice\n",
      "A Chemometric Approach for Determining the Reaction Quantum Yields in Consecutive Photochemical Processes\n",
      "Resolving Factor Analysis\n",
      "Photokinetics : Theoretical Fundamentals and Applications\n",
      "A Spectroscopic Study of the Wavelength-dependent Photoisomerizations of Bilirubins Bound to Human Serum Albumin\n",
      "Analysis of Wavelength-dependent Photoisomerization Quantum Yields in Bilirubins by Fitting Two Exciton Absorption Bands\n",
      "Quantum Yields for Laser Photocyclization of Bilirubin in the Presence of Human Serum Albumin. Dependence of Quantum Yield on Excitation Wavelength\n",
      "Induction of Wavelength-dependent Photochemistry in Bilirubins by Serum Albumin\n",
      "The Ready Isomerization of Bilirubin Ix- in Aqueous Solution\n",
      "Blue Light and Bilirubin Excretion\n",
      "Phototherapy for Neonatal Jaundice - Stereospecific and Regioselective Photo-isomerization of Bilirubin Bound to Human-serum Albumin and Nmr Characterization of Intramolecularly Cyclized Photoproducts\n",
      "Review: Bilirubin pKa Studies; New Models and Theories Indicate High pKa Values in Water, Dimethylformamide and Dmso\n",
      "Lmfit: Non-linear Least-square Minimization and Curve-fitting for Python\n",
      "Self-association of Dipyrrinones Observed by 2d-noe Nmr and Dimerization Constants Calculated from H-1-nmr Chemical-shifts\n",
      "Wavelength-dependence of the Relative Rate Constants for the Main Geometric and Structural Photoisomerization of Bilirubin Ix-alpha Bound to Human-serum Albumin - Demonstration of Green Light at 510 Nm as the Most Effective Wavelength in Photochemical Changes from (zz)-bilirubin Ix-alpha to (ez)-cyclobilirubin Ix-alpha Via (ez)-bilirubins\n",
      "2,2'-pyrromethene-5[1h]-one, Its 1-dimethyl and 1'-mono-dimethyl and 1,1'-dimethyl Homologs - Synthesis, Thermal and Photochemical Reactivity\n",
      "Resolving Spectral Mixtures\n",
      "Solvent-dependent Dual-mode Photochromism between T- and P-types in a Dipyrrinone Derivative\n",
      "Analysis of the Ambiguity in the Determination of Quantum Yields from Spectral Data on a Photoinduced Isomerization\n",
      "Bilirubin Is An Antioxidant of Possible Physiological Importance\n",
      "Concerning the Structure of Photobilirubin-ii\n",
      "Photoirradiation Wavelength Dependence of Cycloreversion Quantum Yields of Diarylethenes\n",
      "Tuning the Photoreactivity of Z-hexatriene Photoswitches by Substituents - a Non-adiabatic Molecular Dynamics Study\n",
      "Application of Non-linear Optimization Methods to the Estimation of Multivariate Curve Resolution Solutions and of Their Feasible Band Boundaries in the Investigation of Two Chemical and Environmental Simulated Data Sets\n",
      "First-principles Prediction of Wavelength-dependent Product Quantum Yields\n",
      "Hyperbilirubinemia in Gunn Rats Is Associated with Decreased Inflammatory Response in Lps-mediated Systemic Inflammation\n",
      "Synthesis and Spectroscopic Study of 1,1'-methylene-2,2'-pyrromethen-5[1h]-one and Its 3,4-dihydro and 2,3,4,6-tetrahydro Derivative\n",
      "Chlorophyll-mediated Changes in the Redox Status of Pancreatic Cancer Cells Are Associated with Its Anticancer Effects\n",
      "Acid-catalyzed Z-e Isomerization of Gamma-alkylidenebutenolides: An Experimental and Dft Study\n",
      "Scipy 1.0: Fundamental Algorithms for Scientific Computing in Python\n",
      "Bilirubin as a Signaling Molecule\n",
      "Bilirubin Chemistry and Metabolism; Harmful and Protective Aspects\n",
      "The Effect of Light Wavelength on in Vitro Bilirubin Photodegradation and Photoisomer Production\n",
      "Simultaneous Production of Carbon Monoxide and Thiobarbituric Acid Reactive Substances in Rat Tissue Preparations by An Iron-ascorbate System\n",
      "Conformational Equilibrium and Photochemistry of Hexa-1,3,5-trienes\n",
      "The Neer Principle - Ground-state Conformational Bias in Triene Photocyclizations\n",
      "Synthesis and Hepatic Transport of Strongly Fluorescent Cholephilic Dipyrrinones\n",
      "Influence of Vinyl Groups on the Uv-visible Spectra and Self-dimerization of Pyrromethenones\n",
      "Mitochondrial Superoxide/hydrogen Peroxide: An Emerging Therapeutic Target for Metabolic Diseases\n",
      "Hyperbilirubinemia Protects against Aging-associated Inflammation and Metabolic Deterioration\n"
     ]
    }
   ],
   "source": [
    "for entry in entries:\n",
    "    try:\n",
    "        print(entry['title'])\n",
    "\n",
    "    except KeyError:\n",
    "        pass"
   ]
  },
  {
   "cell_type": "code",
   "execution_count": 47,
   "metadata": {},
   "outputs": [],
   "source": [
    "with open('output-Half-BR.ris', 'w') as bibliography_file:\n",
    "    rispy.dump(entries, bibliography_file)"
   ]
  },
  {
   "cell_type": "code",
   "execution_count": null,
   "metadata": {},
   "outputs": [],
   "source": []
  }
 ],
 "metadata": {
  "kernelspec": {
   "display_name": "Python 3",
   "language": "python",
   "name": "python3"
  },
  "language_info": {
   "codemirror_mode": {
    "name": "ipython",
    "version": 3
   },
   "file_extension": ".py",
   "mimetype": "text/x-python",
   "name": "python",
   "nbconvert_exporter": "python",
   "pygments_lexer": "ipython3",
   "version": "3.7.3"
  }
 },
 "nbformat": 4,
 "nbformat_minor": 4
}
