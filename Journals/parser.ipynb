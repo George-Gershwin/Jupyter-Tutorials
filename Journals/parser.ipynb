{
 "cells": [
  {
   "cell_type": "code",
   "execution_count": 114,
   "metadata": {},
   "outputs": [],
   "source": [
    "import numpy as np\n",
    "import os\n",
    "import rispy\n",
    "import re"
   ]
  },
  {
   "cell_type": "code",
   "execution_count": 125,
   "metadata": {},
   "outputs": [],
   "source": [
    "j_fname = 'journal list.txt'\n",
    "fname = 'halfBR-new.ris'"
   ]
  },
  {
   "cell_type": "code",
   "execution_count": 126,
   "metadata": {},
   "outputs": [],
   "source": [
    "journals = []\n",
    "for line in open(j_fname, 'r', encoding='utf-8-sig'):\n",
    "    entries = line.strip().split('\\t')\n",
    "    entries[0] = entries[0].lower()\n",
    "    journals.append(entries)"
   ]
  },
  {
   "cell_type": "code",
   "execution_count": 127,
   "metadata": {},
   "outputs": [],
   "source": [
    "counts = np.asarray([entry.__len__() for entry in journals])"
   ]
  },
  {
   "cell_type": "code",
   "execution_count": 128,
   "metadata": {},
   "outputs": [],
   "source": [
    "new_list = [entry for entry in journals if entry.__len__() == 2]  # remove journals that dont have an abbreviation"
   ]
  },
  {
   "cell_type": "code",
   "execution_count": 129,
   "metadata": {},
   "outputs": [],
   "source": [
    "new_list = sorted(new_list, key=lambda entry: entry[0])"
   ]
  },
  {
   "cell_type": "code",
   "execution_count": 130,
   "metadata": {},
   "outputs": [],
   "source": [
    "j_dict = dict(new_list)"
   ]
  },
  {
   "cell_type": "code",
   "execution_count": 131,
   "metadata": {},
   "outputs": [
    {
     "data": {
      "text/plain": [
       "'Phys. Chem. Chem. Phys.'"
      ]
     },
     "execution_count": 131,
     "metadata": {},
     "output_type": "execute_result"
    }
   ],
   "source": [
    "j_dict['physical chemistry chemical physics']"
   ]
  },
  {
   "cell_type": "code",
   "execution_count": 132,
   "metadata": {},
   "outputs": [],
   "source": [
    "preps = [line.strip() for line in open('prepositions.txt', 'r')]"
   ]
  },
  {
   "cell_type": "code",
   "execution_count": 141,
   "metadata": {},
   "outputs": [],
   "source": [
    "def capitalize(text, preps):\n",
    "    def _cap(match):\n",
    "        word = match.group(0)\n",
    "        return word.capitalize() if word not in preps else word\n",
    "    \n",
    "    pattern = '(?<=[ -])([a-zA-Z]+)'  # match all words that has - or space before\n",
    "    return re.sub(pattern, _cap, text.capitalize())  # capitalize the first letter and all matches via func _cap"
   ]
  },
  {
   "cell_type": "code",
   "execution_count": 142,
   "metadata": {},
   "outputs": [],
   "source": [
    "entries = list(rispy.load(open(fname, 'r', encoding='utf-8-sig')))\n",
    "for entry in entries:\n",
    "    try:\n",
    "        j_name = entry['secondary_title']\n",
    "        abbr = j_dict[j_name.lower()]\n",
    "        \n",
    "        entry['secondary_title'] = abbr\n",
    "\n",
    "    except KeyError:\n",
    "        pass\n",
    "    \n",
    "    try:\n",
    "        entry['title'] = capitalize(entry['title'], preps)\n",
    "\n",
    "    except KeyError:\n",
    "        pass\n",
    "    "
   ]
  },
  {
   "cell_type": "code",
   "execution_count": 143,
   "metadata": {},
   "outputs": [
    {
     "name": "stdout",
     "output_type": "stream",
     "text": [
      "Uniqueness and Rotation Ambiguities in Multivariate Curve Resolution Methods\n",
      "Quantum Yield and Skin Filtering Effects on the Formation Rate of Lumirubin\n",
      "Evaluation of the Quantum Yield for E->z Isomerization of Bilirubin Bound to Human Serum Albumin. Evidence of Internal Conversion Processes Competing with Configurational Photoisomerization\n",
      "Wavelength-Dependent Quantum Yield for Z-E Isomerization of Bilirubin Complexed with Human Serum-Albumin\n",
      "Pyrazole, Imidazole, and Isoindolone Dipyrrinone Analogues: Ph-Dependent Fluorophores That Red-Shift Emission Frequencies in a Basic Solution\n",
      "Intermolecular Hydrogen-Bonding in Pi-Facial Dipyrrinone Dimers as Molecular Capsules\n",
      "Stable 4e-Dipyrrinones\n",
      "Strongly Fluorescent Dipyrrinones - Substituent Effects\n",
      "Intensely Fluorescent Dipyrrinones\n",
      "Readily Synthesized Novel Fluorescent Dipyrrinones\n",
      "Strongly Fluorescent Dipyrrinones. Internal Quenching\n",
      "Photobilirubin-Ii\n",
      "Structure of Bilirubin\n",
      "Phototherapy and the Chemistry of Bilirubin\n",
      "Synthesis and Spectroscopic Properties of a New Class of Strongly Fluorescent Dipyrrinones\n",
      "Study of Model Systems for Bilirubin and Bilin Chromophores: Determination and Modification of Thermal and Photochemical Properties\n",
      "Converting Dipyrrinones to Lactim Ethers to Fluorescent N,n '-Difluoroboryl Derivatives\n",
      "Synthesis and Properties of 2,2'-Pyrromethene-5[1h]-One Analogs - the Furan, Thiophene, Benzene, 4-Methoxybenzene, 2-Pyridine and 4-Pyridine Analogs\n",
      "1,3,4-Trimethyl-2,2'-Pyrromethen-5[1h]-One and Its 1'-Methyl Derivative - Synthesis, Thermal and Photochemical Reactivity\n",
      "Photochemical Multivariate Curve Resolution Models for the Investigation of Photochromic Systems under Continuous Irradiation\n",
      "Quantum Yields for the Cyclization and Configurational Isomerization of 4e,15z-Bilirubin\n",
      "Phototherapy for Neonatal Jaundice: in Vitro Comparison of Light Sources\n",
      "The Chemistry of Linear Oligopyrroles and Bile Pigments\n",
      "Chemistry of Pyrrole Pigments .29. Anaerobic Photochemistry of Bile-Pigments - Mechanism of the Photoisomerization at Exocyclic Double-Bonds\n",
      "Nmr Chemical Shifts of Common Laboratory Solvents as Trace Impurities\n",
      "Wavelength Dependence of the Quantum Yield for the Structural Isomerization of Bilirubin\n",
      "Synthesis of the Sterically Fixed Biliverdin Derivative Bearing the Z-anti C/d-Ring Component\n",
      "Molecular Recognition Studies with a Simple Dipyrrinone\n",
      "A Bodipy Analogue from the Tautomerization of Sodium 3-Oxide Bodipy\n",
      "Syntheses of Bilin Chromophores toward the Investigation of Structure and Function of Phytochromes\n",
      "Photochromism of Diarylethene Molecules and Crystals: Memories, Switches, and Actuators\n",
      "Wavelength Dependence of the Geometric and Structural Photoisomerization of Bilirubin Bound to Human-Serum Albumin\n",
      "Fluorescence Quenching of Dipyridamole Associated to Peroxyl Radical Scavenging: a Versatile Probe to Measure the Chain Breaking Antioxidant Activity of Biomolecules\n",
      "Studies on Vitamin-D and Related-Compounds .29. Effects of Wavelength and Conformation on the Photochemistry of Vitamin-D and Related Conjugated Trienes\n",
      "A Novel Accurate Lc-Ms/ms Method for Quantitative Determination of Z-Lumirubin\n",
      "Total Synthesis of (+/-)-Phytochromobilin Starting from Two Pyrrole Derivatives\n",
      "Effect of the Binding-Sites of Human Serum-Albumin on the Efficiency and Photostationary State Isomer-Ratios of the Photoisomerization of Bilirubin\n",
      "C-13 Nuclear Magnetic-Resonance Study of the Motional Behavior of Bilirubin and of Some of Its Derivatives\n",
      "Nuclear Magnetic Resonance Studies of the Conformation of Bilirubin and Its Derivatives in Solution\n",
      "A New and Convenient Wittig-Type Reaction for the Preparation of Pyrromethenone Derivative\n",
      "Photochemistry of Organic Compounds\n",
      "A Novel Synthesis of C/d-Rings Component of Phytochromobilin Dimethyl Ester\n",
      "Studies on Plant Bile-Pigments .2. Regioselective Photochemical and Acid-Catalyzed Z,e Isomerization of Dihydrobilindione as Phytochrome Model\n",
      "Spectral Study of the Photochemistry of Dipyrrole Models for Bilirubin Bound to Human-Serum Albumin\n",
      "Molecular Mechanisms of Phototherapy for Neonatal Jaundice\n",
      "Synthesis, Photooxidation and Z Reversible E Photoisomerization of Benzalpyrrolinones\n",
      "Restricted Bond Rotation and Fluorescence Following Photoexcitation of Dipyrrinones\n",
      "Phototherapy for Neonatal Jaundice\n",
      "A Chemometric Approach for Determining the Reaction Quantum Yields in Consecutive Photochemical Processes\n",
      "Resolving Factor Analysis\n",
      "Photokinetics : Theoretical Fundamentals and Applications\n",
      "A Spectroscopic Study of the Wavelength-Dependent Photoisomerizations of Bilirubins Bound to Human Serum Albumin\n",
      "Analysis of Wavelength-Dependent Photoisomerization Quantum Yields in Bilirubins by Fitting Two Exciton Absorption Bands\n",
      "Quantum Yields for Laser Photocyclization of Bilirubin in the Presence of Human Serum Albumin. Dependence of Quantum Yield on Excitation Wavelength\n",
      "Induction of Wavelength-Dependent Photochemistry in Bilirubins by Serum Albumin\n",
      "The Ready Isomerization of Bilirubin Ix- in Aqueous Solution\n",
      "Blue Light and Bilirubin Excretion\n",
      "Phototherapy for Neonatal Jaundice - Stereospecific and Regioselective Photo-Isomerization of Bilirubin Bound to Human-Serum Albumin and Nmr Characterization of Intramolecularly Cyclized Photoproducts\n",
      "Review: Bilirubin pka Studies; New Models and Theories Indicate High pka Values in Water, Dimethylformamide and Dmso\n",
      "Lmfit: Non-Linear Least-Square Minimization and Curve-Fitting for Python\n",
      "Self-Association of Dipyrrinones Observed by 2d-Noe Nmr and Dimerization Constants Calculated from H-1-Nmr Chemical-Shifts\n",
      "Wavelength-Dependence of the Relative Rate Constants for the Main Geometric and Structural Photoisomerization of Bilirubin Ix-Alpha Bound to Human-Serum Albumin - Demonstration of Green Light at 510 Nm as the Most Effective Wavelength in Photochemical Changes from (zz)-Bilirubin Ix-Alpha to (ez)-Cyclobilirubin Ix-Alpha via (ez)-Bilirubins\n",
      "2,2'-Pyrromethene-5[1h]-One, Its 1-Dimethyl and 1'-Mono-Dimethyl and 1,1'-Dimethyl Homologs - Synthesis, Thermal and Photochemical Reactivity\n",
      "Resolving Spectral Mixtures\n",
      "Solvent-Dependent Dual-Mode Photochromism between T- and P-Types in a Dipyrrinone Derivative\n",
      "Analysis of the Ambiguity in the Determination of Quantum Yields from Spectral Data on a Photoinduced Isomerization\n",
      "Bilirubin is an Antioxidant of Possible Physiological Importance\n",
      "Concerning the Structure of Photobilirubin-Ii\n",
      "Photoirradiation Wavelength Dependence of Cycloreversion Quantum Yields of Diarylethenes\n",
      "Tuning the Photoreactivity of Z-Hexatriene Photoswitches by Substituents - a Non-Adiabatic Molecular Dynamics Study\n",
      "Application of Non-Linear Optimization Methods to the Estimation of Multivariate Curve Resolution Solutions and of Their Feasible Band Boundaries in the Investigation of Two Chemical and Environmental Simulated Data Sets\n",
      "First-Principles Prediction of Wavelength-Dependent Product Quantum Yields\n",
      "Hyperbilirubinemia in Gunn Rats is Associated with Decreased Inflammatory Response in Lps-Mediated Systemic Inflammation\n",
      "Synthesis and Spectroscopic Study of 1,1'-Methylene-2,2'-Pyrromethen-5[1h]-One and Its 3,4-Dihydro and 2,3,4,6-Tetrahydro Derivative\n",
      "Chlorophyll-Mediated Changes in the Redox Status of Pancreatic Cancer Cells Are Associated with Its Anticancer Effects\n",
      "Acid-Catalyzed Z-E Isomerization of Gamma-Alkylidenebutenolides: an Experimental and Dft Study\n",
      "Scipy 1.0: Fundamental Algorithms for Scientific Computing in Python\n",
      "Bilirubin as a Signaling Molecule\n",
      "Bilirubin Chemistry and Metabolism; Harmful and Protective Aspects\n",
      "The Effect of Light Wavelength on in Vitro Bilirubin Photodegradation and Photoisomer Production\n",
      "Simultaneous Production of Carbon Monoxide and Thiobarbituric Acid Reactive Substances in Rat Tissue Preparations by an Iron-Ascorbate System\n",
      "Conformational Equilibrium and Photochemistry of Hexa-1,3,5-Trienes\n",
      "The Neer Principle - Ground-State Conformational Bias in Triene Photocyclizations\n",
      "Synthesis and Hepatic Transport of Strongly Fluorescent Cholephilic Dipyrrinones\n",
      "Influence of Vinyl Groups on the Uv-Visible Spectra and Self-Dimerization of Pyrromethenones\n",
      "Mitochondrial Superoxide/hydrogen Peroxide: an Emerging Therapeutic Target for Metabolic Diseases\n",
      "Hyperbilirubinemia Protects against Aging-Associated Inflammation and Metabolic Deterioration\n"
     ]
    }
   ],
   "source": [
    "for entry in entries:\n",
    "    try:\n",
    "        print(entry['title'])\n",
    "\n",
    "    except KeyError:\n",
    "        pass"
   ]
  },
  {
   "cell_type": "code",
   "execution_count": 140,
   "metadata": {},
   "outputs": [],
   "source": [
    "with open('output-Half-BR.ris', 'w') as bibliography_file:\n",
    "    rispy.dump(entries, bibliography_file)"
   ]
  },
  {
   "cell_type": "code",
   "execution_count": null,
   "metadata": {},
   "outputs": [],
   "source": []
  }
 ],
 "metadata": {
  "kernelspec": {
   "display_name": "Python 3",
   "language": "python",
   "name": "python3"
  },
  "language_info": {
   "codemirror_mode": {
    "name": "ipython",
    "version": 3
   },
   "file_extension": ".py",
   "mimetype": "text/x-python",
   "name": "python",
   "nbconvert_exporter": "python",
   "pygments_lexer": "ipython3",
   "version": "3.7.6"
  }
 },
 "nbformat": 4,
 "nbformat_minor": 4
}
